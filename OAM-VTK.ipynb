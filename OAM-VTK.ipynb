{
 "cells": [
  {
   "cell_type": "code",
   "execution_count": 1,
   "metadata": {},
   "outputs": [],
   "source": [
    "#%pylab inline\n",
    "import numpy as np\n",
    "import matplotlib.pyplot as plt\n",
    "%matplotlib inline"
   ]
  },
  {
   "cell_type": "code",
   "execution_count": 5,
   "metadata": {},
   "outputs": [],
   "source": [
    "from matplotlib.patches import Circle\n",
    "\n",
    "\n",
    "from collections import namedtuple as nt\n",
    "mode_params=nt(\"mode_params\", \"a0 m p Mp w0\")\n",
    "\n",
    "from scipy.special import hermite, genlaguerre\n",
    "\n",
    "\n",
    "def LG_mode(mode_params, tau, r, phi, z):\n",
    "    a0=mode_params.a0\n",
    "    m=mode_params.m  # mode number x\n",
    "    p=mode_params.p  # mode number y\n",
    "    Mp=mode_params.Mp \n",
    "        \n",
    "    w0=mode_params.w0\n",
    "    Lpm=genlaguerre(p,np.abs(m))\n",
    "    \n",
    "    ZR = Mp*w0**2/2\n",
    "    \n",
    "    w = w0*np.sqrt(1+z**2/ZR**2)\n",
    "    chi = np.arctan(z/ZR)\n",
    "    \n",
    "    toret = 1/np.sqrt(w)*(r*np.sqrt(2)/w)**np.abs(m)*np.exp(-r**2/w**2)*Lpm(2*r**2/w**2)\n",
    "    \n",
    "    toret = toret*np.exp(-1j*r**2*z/2/(ZR**2+z**2))\n",
    "    \n",
    "    toret = toret*np.exp(1j*m*phi) * np.exp(-z**2/2/tau**2)*np.exp(1j*Mp*z)\n",
    "    \n",
    "    toret = a0*toret*np.exp(-1j*(2*p+np.abs(m)+1)*chi)\n",
    "    \n",
    "    #toret = toret*exp(-)\n",
    "    \n",
    "    \n",
    "    \n",
    "    #toret = toret + conjugate(toret)\n",
    "    return toret"
   ]
  },
  {
   "cell_type": "code",
   "execution_count": 40,
   "metadata": {},
   "outputs": [
    {
     "ename": "ValueError",
     "evalue": "object too deep for desired array",
     "output_type": "error",
     "traceback": [
      "\u001b[0;31m---------------------------------------------------------------------------\u001b[0m",
      "\u001b[0;31mValueError\u001b[0m                                Traceback (most recent call last)",
      "\u001b[0;32m<ipython-input-40-62fa973048d9>\u001b[0m in \u001b[0;36m<module>\u001b[0;34m\u001b[0m\n\u001b[1;32m     63\u001b[0m \u001b[0;34m\u001b[0m\u001b[0m\n\u001b[1;32m     64\u001b[0m \u001b[0mzd\u001b[0m \u001b[0;34m=\u001b[0m \u001b[0mz\u001b[0m\u001b[0;34m-\u001b[0m\u001b[0mzmirror\u001b[0m\u001b[0;34m\u001b[0m\u001b[0;34m\u001b[0m\u001b[0m\n\u001b[0;32m---> 65\u001b[0;31m \u001b[0mrefl_field_interp\u001b[0m \u001b[0;34m=\u001b[0m \u001b[0mnp\u001b[0m\u001b[0;34m.\u001b[0m\u001b[0minterp\u001b[0m\u001b[0;34m(\u001b[0m\u001b[0mz\u001b[0m\u001b[0;34m,\u001b[0m \u001b[0mzd\u001b[0m\u001b[0;34m,\u001b[0m \u001b[0mrefl_field\u001b[0m\u001b[0;34m)\u001b[0m\u001b[0;34m\u001b[0m\u001b[0;34m\u001b[0m\u001b[0m\n\u001b[0m\u001b[1;32m     66\u001b[0m \u001b[0;34m\u001b[0m\u001b[0m\n\u001b[1;32m     67\u001b[0m \u001b[0mplt\u001b[0m\u001b[0;34m.\u001b[0m\u001b[0mplot\u001b[0m\u001b[0;34m(\u001b[0m\u001b[0mzz\u001b[0m\u001b[0;34m/\u001b[0m\u001b[0;36m2\u001b[0m\u001b[0;34m/\u001b[0m\u001b[0mnp\u001b[0m\u001b[0;34m.\u001b[0m\u001b[0mpi\u001b[0m\u001b[0;34m,\u001b[0m \u001b[0mfield_x\u001b[0m\u001b[0;34m[\u001b[0m\u001b[0;36m30\u001b[0m\u001b[0;34m,\u001b[0m\u001b[0;36m30\u001b[0m\u001b[0;34m,\u001b[0m\u001b[0;34m:\u001b[0m\u001b[0;34m]\u001b[0m\u001b[0;34m)\u001b[0m\u001b[0;34m\u001b[0m\u001b[0;34m\u001b[0m\u001b[0m\n",
      "\u001b[0;32m<__array_function__ internals>\u001b[0m in \u001b[0;36minterp\u001b[0;34m(*args, **kwargs)\u001b[0m\n",
      "\u001b[0;32m~/anaconda3/lib/python3.7/site-packages/numpy/lib/function_base.py\u001b[0m in \u001b[0;36minterp\u001b[0;34m(x, xp, fp, left, right, period)\u001b[0m\n\u001b[1;32m   1410\u001b[0m         \u001b[0mfp\u001b[0m \u001b[0;34m=\u001b[0m \u001b[0mnp\u001b[0m\u001b[0;34m.\u001b[0m\u001b[0mconcatenate\u001b[0m\u001b[0;34m(\u001b[0m\u001b[0;34m(\u001b[0m\u001b[0mfp\u001b[0m\u001b[0;34m[\u001b[0m\u001b[0;34m-\u001b[0m\u001b[0;36m1\u001b[0m\u001b[0;34m:\u001b[0m\u001b[0;34m]\u001b[0m\u001b[0;34m,\u001b[0m \u001b[0mfp\u001b[0m\u001b[0;34m,\u001b[0m \u001b[0mfp\u001b[0m\u001b[0;34m[\u001b[0m\u001b[0;36m0\u001b[0m\u001b[0;34m:\u001b[0m\u001b[0;36m1\u001b[0m\u001b[0;34m]\u001b[0m\u001b[0;34m)\u001b[0m\u001b[0;34m)\u001b[0m\u001b[0;34m\u001b[0m\u001b[0;34m\u001b[0m\u001b[0m\n\u001b[1;32m   1411\u001b[0m \u001b[0;34m\u001b[0m\u001b[0m\n\u001b[0;32m-> 1412\u001b[0;31m     \u001b[0;32mreturn\u001b[0m \u001b[0minterp_func\u001b[0m\u001b[0;34m(\u001b[0m\u001b[0mx\u001b[0m\u001b[0;34m,\u001b[0m \u001b[0mxp\u001b[0m\u001b[0;34m,\u001b[0m \u001b[0mfp\u001b[0m\u001b[0;34m,\u001b[0m \u001b[0mleft\u001b[0m\u001b[0;34m,\u001b[0m \u001b[0mright\u001b[0m\u001b[0;34m)\u001b[0m\u001b[0;34m\u001b[0m\u001b[0;34m\u001b[0m\u001b[0m\n\u001b[0m\u001b[1;32m   1413\u001b[0m \u001b[0;34m\u001b[0m\u001b[0m\n\u001b[1;32m   1414\u001b[0m \u001b[0;34m\u001b[0m\u001b[0m\n",
      "\u001b[0;31mValueError\u001b[0m: object too deep for desired array"
     ]
    }
   ],
   "source": [
    "# 3d Laguerre-Gaussian\n",
    "\n",
    "\n",
    "\n",
    "mode_1 = mode_params(1., 0, 0, 1., 3.**2*np.pi)\n",
    "mode_2 = mode_params(0., 2, 0, 1., 3.**2*np.pi)\n",
    "\n",
    "xmin=-10\n",
    "xmax=10\n",
    "ymin=-10\n",
    "ymax=10\n",
    "zmin=-15\n",
    "zmax=15\n",
    "\n",
    "nofxs = 60\n",
    "nofys = 60\n",
    "nofzs = 600\n",
    "\n",
    "xx = np.linspace(xmin*2*np.pi, xmax*2*np.pi, nofxs)\n",
    "yy = np.linspace(ymin*2*np.pi, ymax*2*np.pi, nofys)\n",
    "\n",
    "#rho = linspace(0, )\n",
    "zz = np.linspace(zmin*2*np.pi, zmax*2*np.pi, nofzs)\n",
    "\n",
    "#x,y,z=meshgrid(xx,yy,zz)\n",
    "x,y,z = np.meshgrid(xx,yy,zz, indexing='xy')\n",
    "\n",
    "r = np.sqrt(x**2+y**2)\n",
    "\n",
    "xiy = x + 1j*y\n",
    "phi = np.angle(xiy)\n",
    "\n",
    "tau = 4*2*np.pi\n",
    "delay = -tau\n",
    "\n",
    "field_x = np.abs(LG_mode(mode_1, tau, r, phi, z-delay/2))*\\\n",
    "        np.cos(np.angle(LG_mode(mode_1, tau, r, phi, z-delay/2)))\n",
    "\n",
    "field_x = field_x + np.abs(LG_mode(mode_2, tau, r, phi, z+delay/2))*\\\n",
    "        np.cos(np.angle(LG_mode(mode_2, tau, r, phi, z+delay/2)))\n",
    "\n",
    "envelope1 = np.abs(LG_mode(mode_1, tau, r, phi, z-delay/2))\n",
    "envelope2 = np.abs(LG_mode(mode_2, tau, r, phi, z+delay/2))\n",
    "\n",
    "# now i have field_x numerically representing incoming\n",
    "# how to add reflection\n",
    "\n",
    "\n",
    "# for every x,y:\n",
    "# find a (envelope)\n",
    "# refl_field = LG_mode_envelope * cos(...z+zmirror)\n",
    "# interp\n",
    "# output: interped array of fields including retarded time\n",
    "\n",
    "zmirror = envelope1/np.sqrt(1+envelope1 ** 2) * np.cos(np.angle(LG_mode(mode_1, tau, r, phi, z-delay/2)))**2\n",
    "refl_field = envelope1 * np.cos(np.angle(LG_mode(mode_1, tau, r, phi, z-delay/2+zmirror)))\n",
    "\n",
    "zd = z-zmirror\n",
    "#refl_field_interp = np.interp(z, zd, refl_field)\n",
    "\n",
    "plt.plot(zz/2/np.pi, field_x[30,30,:])\n",
    "\n",
    "from pyevtk.hl import pointsToVTK\n",
    "from pyevtk.hl import gridToVTK\n",
    "\n",
    "gridToVTK(\"./test_potential\", x/np.amax(x), y/np.amax(y), z/np.amax(z), pointData = {\"field_x\" : field_x})\n",
    "\n",
    "filename='./test_field'\n",
    "gridToVTK(filename, x/np.amax(x), y/np.amax(y), z/np.amax(z), pointData = {\"field_x\" : field_x})\n",
    "\n",
    "# Now load test_potential.vts in Paraview"
   ]
  },
  {
   "cell_type": "code",
   "execution_count": 39,
   "metadata": {},
   "outputs": [
    {
     "data": {
      "text/plain": [
       "[<matplotlib.lines.Line2D at 0x82aa4a710>]"
      ]
     },
     "execution_count": 39,
     "metadata": {},
     "output_type": "execute_result"
    },
    {
     "data": {
      "image/png": "[encoded data removed]",
      "text/plain": [
       "<Figure size 432x288 with 1 Axes>"
      ]
     },
     "metadata": {
      "needs_background": "light"
     },
     "output_type": "display_data"
    }
   ],
   "source": [
    "plt.plot((zmirror - z)[30,30,290:310], range(290,310))"
   ]
  },
  {
   "cell_type": "code",
   "execution_count": 45,
   "metadata": {},
   "outputs": [
    {
     "data": {
      "text/plain": [
       "(60, 60, 600)"
      ]
     },
     "execution_count": 45,
     "metadata": {},
     "output_type": "execute_result"
    }
   ],
   "source": [
    "zd.shape"
   ]
  },
  {
   "cell_type": "code",
   "execution_count": 11,
   "metadata": {},
   "outputs": [],
   "source": [
    "filt = np.fft.fft(field_x, axis=2)\n",
    "freq = np.fft.fftfreq(len(field_x[1,1,:]), d=zz[1]-zz[0])\n",
    "\n",
    "\n",
    "filt_func = np.exp(-(freq*2*np.pi-3.0)**100/(0.5)**100)\n",
    "filt_func = filt_func+np.exp(-(freq*2*np.pi+3.0)**100/(0.5)**100)\n",
    "\n",
    "filt=filt*filt_func\n",
    "\n",
    "refl_filt = np.fft.ifft(filt, axis=2)"
   ]
  },
  {
   "cell_type": "code",
   "execution_count": 13,
   "metadata": {},
   "outputs": [
    {
     "data": {
      "text/plain": [
       "(-10, 10)"
      ]
     },
     "execution_count": 13,
     "metadata": {},
     "output_type": "execute_result"
    },
    {
     "data": {
      "image/png": "[encoded data removed]",
      "text/plain": [
       "<Figure size 432x288 with 1 Axes>"
      ]
     },
     "metadata": {
      "needs_background": "light"
     },
     "output_type": "display_data"
    }
   ],
   "source": [
    "plt.plot(freq*2*np.pi, np.abs(filt[40,40,:]))\n",
    "\n",
    "plt.plot(freq*2*np.pi, filt_func)\n",
    "plt.xlim(-10,10)"
   ]
  },
  {
   "cell_type": "code",
   "execution_count": null,
   "metadata": {},
   "outputs": [],
   "source": [
    "from ipywidgets import interact"
   ]
  },
  {
   "cell_type": "code",
   "execution_count": null,
   "metadata": {},
   "outputs": [],
   "source": [
    "@interact(n=(0,nofzs-1,2))\n",
    "def Plotter(n=0):\n",
    "#    imshow(real(refl_filt[:,:,n]))\n",
    "    imshow(field_x[:,:,n])\n",
    "    #clim(0,0.1)\n",
    "    tosave = '%03d_field.png' % n\n",
    "    savefig(tosave, dpi=100)"
   ]
  },
  {
   "cell_type": "code",
   "execution_count": null,
   "metadata": {},
   "outputs": [],
   "source": [
    "field_x_fft=fft.fft(field_x)\n",
    "\n",
    "field_x_fft.shape\n",
    "figure()\n",
    "plot(abs(field_x_fft[40,40,:]))\n",
    "xlim(0,25)\n",
    "\n",
    "figure()\n",
    "subplot(121)\n",
    "title('Absolute value')\n",
    "imshow(abs(field_x_fft[:,:,10]))\n",
    "\n",
    "subplot(122)\n",
    "title('Angle')\n",
    "imshow(angle(field_x_fft[:,:,10]))"
   ]
  },
  {
   "cell_type": "code",
   "execution_count": null,
   "metadata": {},
   "outputs": [],
   "source": [
    "# 3d Laguerre-Gaussian\n",
    "\n",
    "mode_1 = mode_params(1.  ,    1 , 4, 1., 3.*2*pi)\n",
    "mode_2 = mode_params(0.01,    10, 0, 1., 3.*2*pi)\n",
    "mode_3 = mode_params(0.2 ,    5 , 0, 1., 3.*2*pi)\n",
    "mode_4 = mode_params(0.  ,    1 , 0, 1., 3.*2*pi)\n",
    "\n",
    "xmin=-10\n",
    "xmax=20\n",
    "ymin=-10\n",
    "ymax=10\n",
    "zmin=-5\n",
    "zmax=5\n",
    "\n",
    "nofxs = 200\n",
    "nofys = 100\n",
    "nofzs = 200\n",
    "\n",
    "xx=linspace(xmin*2*pi, xmax*2*pi, nofxs)\n",
    "yy=linspace(ymin*2*pi, ymax*2*pi, nofys)\n",
    "\n",
    "rho = linspace(0, xmax*2*pi, nofxs)\n",
    "phi = linspace(0, 2*pi, nofys)\n",
    "zz=linspace(zmin*2*pi, zmax*2*pi, nofzs)\n",
    "\n",
    "rho,phi,z=meshgrid(rho,phi,zz, indexing='xy')\n",
    "\n",
    "#x,y,z=meshgrid(xx,yy,zz)\n",
    "#x,y,z=meshgrid(xx,yy,zz, indexing='xy')\n",
    "\n",
    "#r=sqrt(x**2+y**2)\n",
    "\n",
    "#xiy = x+1j*y\n",
    "#phi=angle(xiy)\n",
    "\n",
    "field_x = abs(LG_mode(mode_1, 10, rho, phi, z))*cos(angle(LG_mode(mode_1, 10, rho, phi, z)))\n",
    "field_x = field_x + abs(LG_mode(mode_2, 10, rho, phi, z))*cos(angle(LG_mode(mode_2, 10, rho, phi, z)))\n",
    "field_x = field_x + abs(LG_mode(mode_3, 10, rho, phi, z))*cos(angle(LG_mode(mode_3, 10, rho, phi, z)))\n",
    "field_x = field_x + abs(LG_mode(mode_4, 10, rho, phi, z))*cos(angle(LG_mode(mode_4, 10, rho, phi, z)))\n",
    "\n",
    "\n",
    "plot(field_x[40,40,:])\n",
    "\n",
    "\n",
    "#from pyevtk.hl import pointsToVTK\n",
    "#from pyevtk.hl import gridToVTK\n",
    "\n",
    "#gridToVTK(\"./test_potential\", x/amax(x), y/amax(y), z/amax(z), pointData = {\"field_x\" : field_x})\n",
    "\n",
    "#filename='./test_field'\n",
    "#gridToVTK(filename, x/amax(x), y/amax(y), z/amax(z), pointData = {\"field_x\" : field_x})\n",
    "\n",
    "# Now load test_potential.vts in Paraview"
   ]
  },
  {
   "cell_type": "code",
   "execution_count": null,
   "metadata": {},
   "outputs": [],
   "source": [
    "@interact(n=(0,200))\n",
    "def Plotter(n=0):\n",
    "    \n",
    "    figure()\n",
    "    fig,ax = plt.subplots(subplot_kw=dict(projection='polar'))\n",
    "    fig3=ax.pcolormesh(phi[:,:,n],rho[:,:,n], abs(field_x[:,:,n]))\n"
   ]
  },
  {
   "cell_type": "code",
   "execution_count": null,
   "metadata": {},
   "outputs": [],
   "source": [
    "field_spec=fft.fft(field_x, axis=2)\n",
    "w=fft.fftfreq(shape(field_x)[2], d=zz[1]-zz[0])*2*pi\n",
    "plot(w, abs(field_spec[50,50,:]))\n",
    "dw=w[1]-w[0]"
   ]
  },
  {
   "cell_type": "code",
   "execution_count": null,
   "metadata": {},
   "outputs": [],
   "source": [
    "@interact(n=(0,200))\n",
    "def Plotter(n=10):\n",
    "    \n",
    "    \n",
    "    figure(figsize=(15,10))\n",
    "    #fig,ax = plt.subplots(subplot_kw=dict(projection='polar'))\n",
    "    subplot(121, projection='polar')\n",
    "    pcolormesh(phi[:,:,n],rho[:,:,n], abs(field_spec[:,:,n]))\n",
    "    title(str(n*dw))\n",
    "    \n",
    "    #fig,ax = plt.subplots(subplot_kw=dict(projection='polar'))\n",
    "    subplot(122, projection='polar')\n",
    "    pcolormesh(phi[:,:,n],rho[:,:,n], angle(field_spec[:,:,n]))\n",
    "    #title(str(n*dw))"
   ]
  },
  {
   "cell_type": "code",
   "execution_count": null,
   "metadata": {},
   "outputs": [],
   "source": [
    "to_phi_fft = field_spec[:,:,10]\n",
    "#to_phi_fft.shape\n",
    "phispec = fft.fft(to_phi_fft, axis=0)\n",
    "rhospec = fft.fft(to_phi_fft, axis=1)\n",
    "figure()\n",
    "semilogy(abs(phispec[:, 40]), '*-')\n",
    "xlim(0,20)\n",
    "\n",
    "figure()\n",
    "plot(abs(rhospec[50, :]), '.-')\n",
    "xlim(0,40)\n",
    "#subplot(111, projection='polar')\n",
    "#pcolormesh(phi[:,:,10], rho[:,:,10], abs(phispec))\n",
    "\n",
    "#imshow(log10(abs(phispec)), origin='lower', aspect='auto')"
   ]
  },
  {
   "cell_type": "code",
   "execution_count": null,
   "metadata": {},
   "outputs": [],
   "source": [
    "mode_1=mode_params(1, 3, 0, 2., 3.**2*pi)\n",
    "\n",
    "xmin=-20\n",
    "xmax=20\n",
    "ymin=-20\n",
    "ymax=20\n",
    "\n",
    "nofxs = 1000\n",
    "nofys = 1000\n",
    "\n",
    "xx=linspace(xmin*2*pi, xmax*2*pi, nofxs)\n",
    "print(len(xx/2/pi))\n",
    "yy=linspace(ymin*2*pi, ymax*2*pi, nofys)\n",
    "\n",
    "x,y=meshgrid(xx,yy)\n",
    "\n",
    "r=sqrt(x**2+y**2)\n",
    "\n",
    "xiy = x+1j*y\n",
    "phi=angle(xiy)\n",
    "\n",
    "field_x = real(LG_mode(mode_1, 10, r, phi, -100))\n",
    "field_y = imag(LG_mode(mode_1, 10, r, phi, -100))\n",
    "\n",
    "print(r.shape)\n",
    "\n",
    "figure(figsize=(8,8))\n",
    "fig1 = imshow(angle(field_y), origin='lower', extent=[xmin, xmax, ymin, ymax])\n",
    "plt.colorbar(fig1,fraction=0.02, pad=0.04)\n",
    "#c1=Circle((0,0), radius=5, color='w', fill=False)\n",
    "#plot(0,0, 'wo')\n",
    "#ax=gca()\n",
    "#ax.add_artist(c1)\n",
    "\n",
    "#figure()\n",
    "#imshow(field.imag)\n",
    "\n",
    "figure(figsize=(8,8))\n",
    "imshow(field_x,origin='lower')\n",
    "colorbar()"
   ]
  },
  {
   "cell_type": "code",
   "execution_count": null,
   "metadata": {},
   "outputs": [],
   "source": []
  },
  {
   "cell_type": "code",
   "execution_count": null,
   "metadata": {},
   "outputs": [],
   "source": [
    "phase = angle(field)\n",
    "print(shape(phase))\n",
    "\n",
    "\n",
    "rhorho = np.sqrt((x)**2 + (y)**2)\n",
    "phiphi = -angle((y)*1j+(xx))\n",
    "print(shape(rhorho))\n",
    "\n",
    "figure()\n",
    "plt.scatter(rhorho.flatten(),phiphi.flatten(),c=phase.flatten(),lw=0,s=3)\n",
    "#plt.scatter(rho,phi,c=Ex_3D_t,vmin=-2,vmax=2.0,lw=0,s=2)\n",
    "\n",
    "xlim(0,120)\n",
    "xlabel('rho')\n",
    "ylabel('phi')\n",
    "\n",
    "Rho = linspace(0,120,nofxs)\n",
    "Phi = linspace(-pi,pi,nofys)\n",
    "[RhoRho,PhiPhi]=meshgrid(Rho,Phi)\n",
    "\n",
    "rho_1D = reshape(rhorho,(nofxs * nofys))\n",
    "phi_1D = reshape(phiphi,(nofxs * nofys))\n",
    "points = zeros((nofxs * nofys,2))\n",
    "values = zeros((nofxs * nofys,1))\n",
    "points[:,0] = rho_1D\n",
    "points[:,1] = phi_1D\n",
    "phase_1D = reshape(phase,(nofxs * nofys))\n",
    "\n",
    "from scipy.interpolate import griddata\n",
    "\n",
    "values = phase_1D\n",
    "grid_z = griddata(points, values, (RhoRho, PhiPhi), method='nearest')\n",
    "\n",
    "figure()\n",
    "plt.imshow(grid_z,origin='lower',aspect='auto',vmin=-pi,vmax=pi)\n",
    "colorbar()\n",
    "#plt.scatter(RhoRho.flatten(),PhiPhi.flatten(),c=grid_z.flatten(),lw=0,s=3)\n",
    "#xlim(0,120)\n",
    "#ylim(-pi,pi)\n",
    "\n",
    "figure()\n",
    "plot(grid_z[:,50])\n",
    "\n"
   ]
  },
  {
   "cell_type": "code",
   "execution_count": null,
   "metadata": {},
   "outputs": [],
   "source": [
    "theta=30.0*pi/180\n",
    "pulse = exp(-(x**2)/2/30**2)*exp(-(y**2)/2/30**2)*sin(0.0-x*cos(theta)-y*sin(theta))\n",
    "\n",
    "#xprime = x*cos(theta)+y*sin(theta)\n",
    "#yprime = -x*sin(theta)+y*cos(theta)\n",
    "\n",
    "\n",
    "\n",
    "#pulse = exp(-(xprime**2)/2/50**2)*sin(0.0-xprime-yprime)\n",
    "#pulse = pulse * exp(-(yprime**2)/2/50**2)\n",
    "\n",
    "\n",
    "\n",
    "imshow(pulse)"
   ]
  },
  {
   "cell_type": "code",
   "execution_count": null,
   "metadata": {},
   "outputs": [],
   "source": [
    "sp=fft.fft2(pulse)\n",
    "kxx=fft.fftfreq(len(pulse), d=xx[1]-xx[0])\n",
    "kyy=fft.fftfreq(len(pulse), d=yy[1]-yy[0])\n",
    "kx,ky=meshgrid(kxx,kyy)"
   ]
  },
  {
   "cell_type": "code",
   "execution_count": null,
   "metadata": {},
   "outputs": [],
   "source": [
    "pcolormesh(kx*2*pi,ky*2*pi, log(abs(sp)))\n",
    "colorbar()\n",
    "vlines(0,-15,15)\n",
    "hlines(0, -15, 15)\n",
    "xlim(-2,2)\n",
    "ylim(-2,2)"
   ]
  },
  {
   "cell_type": "code",
   "execution_count": null,
   "metadata": {},
   "outputs": [],
   "source": [
    "complex_k = kx+1j*ky\n",
    "\n",
    "pcolormesh(2*pi*sqrt(kx**2+ky**2), angle(complex_k)*180/pi, log(abs(sp)))\n",
    "\n",
    "xlim(0,2)\n",
    "\n",
    "ylim(-60,60)\n",
    "\n",
    "xlabel(r'$\\omega$', fontsize=20)\n",
    "ylabel(r'$\\theta$', fontsize=20)"
   ]
  },
  {
   "cell_type": "code",
   "execution_count": null,
   "metadata": {},
   "outputs": [],
   "source": [
    "mode_1=mode_params(0.4, 10, 0, 1., 0., 3.**2*pi)\n",
    "\n",
    "xmin=-20\n",
    "xmax=20\n",
    "ymin=-20\n",
    "ymax=20\n",
    "zmin=-10\n",
    "zmax=10\n",
    "\n",
    "\n",
    "xx=linspace(xmin*2*pi, xmax*2*pi, 300)\n",
    "yy=linspace(ymin*2*pi, ymax*2*pi, 300)\n",
    "zz=linspace(zmin*2*pi, zmax*2*pi, 100)\n",
    "\n",
    "x,y,z=meshgrid(xx,yy, zz)\n",
    "\n",
    "r=sqrt(x**2+y**2)\n",
    "\n",
    "xiy = x+1j*y\n",
    "phi=angle(xiy)\n",
    "\n",
    "field = LG_mode(mode_1, 0, r, phi, z)\n",
    "\n",
    "print(r.shape)\n",
    "\n",
    "figure(figsize=(8,8))\n",
    "imshow(imag(field), origin='lower', extent=[xmin, xmax, ymin, ymax])\n",
    "c1=Circle((0,0), radius=5, color='w', fill=False)\n",
    "plot(0,0, 'wo')\n",
    "ax=gca()\n",
    "ax.add_artist(c1)\n",
    "\n",
    "#figure()\n",
    "#imshow(field.imag)\n",
    "\n",
    "figure(figsize=(8,8))\n",
    "imshow(abs(field)**2)"
   ]
  },
  {
   "cell_type": "code",
   "execution_count": null,
   "metadata": {},
   "outputs": [],
   "source": [
    "imshow(real(field[:,:,45]), aspect='auto')\n",
    "colorbar()"
   ]
  },
  {
   "cell_type": "code",
   "execution_count": null,
   "metadata": {},
   "outputs": [],
   "source": [
    "ddlx = linspace(0,20,200)\n",
    "ddly = linspace(0,30,300)\n",
    "\n",
    "ddlxx,ddlyy =meshgrid(ddlx,ddly)\n",
    "\n",
    "ddlvalue = ddlxx**2+ddlyy**2\n",
    "\n",
    "pcolormesh(ddlxx,ddlyy,ddlvalue,cmap='jet')\n",
    "colorbar()\n"
   ]
  },
  {
   "cell_type": "code",
   "execution_count": null,
   "metadata": {},
   "outputs": [],
   "source": [
    "engMax[n]= sqrt(mass*mass+momMax[n]*momMax[n])-mass;\n"
   ]
  }
 ],
 "metadata": {
  "anaconda-cloud": {},
  "kernelspec": {
   "display_name": "Python 3",
   "language": "python",
   "name": "python3"
  },
  "language_info": {
   "codemirror_mode": {
    "name": "ipython",
    "version": 3
   },
   "file_extension": ".py",
   "mimetype": "text/x-python",
   "name": "python",
   "nbconvert_exporter": "python",
   "pygments_lexer": "ipython3",
   "version": "3.7.3"
  }
 },
 "nbformat": 4,
 "nbformat_minor": 2
}
