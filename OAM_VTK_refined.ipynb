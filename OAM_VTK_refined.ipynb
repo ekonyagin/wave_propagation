{
 "cells": [
  {
   "cell_type": "code",
   "execution_count": 4,
   "metadata": {},
   "outputs": [],
   "source": [
    "from datetime import datetime\n",
    "import numpy as np\n",
    "import matplotlib.pyplot as plt\n",
    "from numba import jit, float64, complex128, int64, types\n",
    "\n",
    "from matplotlib.patches import Circle\n",
    "\n",
    "\n",
    "from collections import namedtuple as nt\n",
    "mode_params=nt(\"mode_params\", \"a0 m p Mp w0\")\n",
    "\n",
    "from scipy.special import hermite, genlaguerre\n",
    "\n",
    "%matplotlib inline"
   ]
  },
  {
   "cell_type": "code",
   "execution_count": 5,
   "metadata": {},
   "outputs": [],
   "source": [
    "@jit(types.Tuple((complex128[:,:,:], \n",
    "                  float64[:,:,:], \n",
    "                  int64, \n",
    "                  int64))\n",
    "     (int64, \n",
    "      int64, \n",
    "      float64, \n",
    "      float64, \n",
    "      float64, \n",
    "      float64, \n",
    "      float64[:,:,:], \n",
    "      float64[:,:,:], \n",
    "      float64[:,:,:]), cache=True, nopython=True, parallel=True)\n",
    "def LG_mode_accelerated(mode_params_m, \n",
    "                        mode_params_p, \n",
    "                        mode_params_Mp, \n",
    "                        mode_params_w0, \n",
    "                        mode_params_a0, tau, r, phi, z):\n",
    "    a0 = mode_params_a0\n",
    "    m = mode_params_m  # mode number x\n",
    "    p = mode_params_p  # mode number y\n",
    "    Mp = mode_params_Mp\n",
    "    w0 = mode_params_w0\n",
    "    \n",
    "    #Lpm=genlaguerre(p,np.abs(m))\n",
    "\n",
    "    ZR = Mp*w0**2/2\n",
    "    ZR_sq = np.square(ZR)\n",
    "    r_sq = np.square(r)\n",
    "    z_sq = np.square(z)\n",
    "    \n",
    "    w = w0*np.sqrt(1+z_sq/ZR_sq)\n",
    "    w_sq = np.square(w)\n",
    "    chi = np.arctan(z/ZR)\n",
    "    \n",
    "    \n",
    "    #toret = 1/np.sqrt(w)*(r*np.sqrt(2)/w)**np.abs(m)\n",
    "    toret = (r*np.sqrt(2)/w)**np.abs(m)\n",
    "\n",
    "    exp_factor = np.exp(-1j*r_sq*z/2/(ZR_sq+z_sq) + 1j*m*phi -z_sq/2/tau**2 + \\\n",
    "                        1j*Mp*z -1j*(2*p+np.abs(m)+1)*chi-r_sq/w_sq)\n",
    "    toret = toret * exp_factor\n",
    "    \n",
    "    return a0*toret, 2*r_sq/w_sq, p, m"
   ]
  },
  {
   "cell_type": "code",
   "execution_count": 23,
   "metadata": {},
   "outputs": [],
   "source": [
    "class LG_mode_generation():\n",
    "    \n",
    "    \"\"\"\n",
    "        This class features the suport of LG modes generation and reflected field analysis.\n",
    "        After fitting, the following results are stored in corresponding member variables:\n",
    "            self.zmirror - describes the motion of target\n",
    "            self.refl_field - interpolated field generated after LG_mode interaction with target\n",
    "            self.fft_result - FFT transform of the reflected field\n",
    "            self.fft_freq - set of corresponding frequencies in FFT\n",
    "    \"\"\"\n",
    "    \n",
    "    def __init__(self, params_dict):\n",
    "        \n",
    "        self.fitted = False\n",
    "        self.mode_params = []\n",
    "        self.mode_params.append(mode_params(*params_dict[\"mode_0\"])) ###mode_params\n",
    "        self.mode_params.append(mode_params(*params_dict[\"mode_1\"])) ###mode_params\n",
    "        self.coord_type = params_dict[\"coords\"][\"type\"]\n",
    "        \n",
    "        self.tau = params_dict[\"tau\"]\n",
    "        self.delay = params_dict[\"delay\"]\n",
    "        \n",
    "        if self.coord_type == \"cartesian\":\n",
    "            xmin = params_dict[\"coords\"][\"xmin\"]#-10\n",
    "            xmax = params_dict[\"coords\"][\"xmax\"]#10\n",
    "            ymin = params_dict[\"coords\"][\"ymin\"]#-10\n",
    "            ymax = params_dict[\"coords\"][\"ymax\"]#10\n",
    "            zmin = params_dict[\"coords\"][\"zmin\"]#-15\n",
    "            zmax = params_dict[\"coords\"][\"zmax\"]#15\n",
    "\n",
    "            nofxs = params_dict[\"discretization\"][\"x\"]#60\n",
    "            nofys = params_dict[\"discretization\"][\"y\"]#60\n",
    "            nofzs = params_dict[\"discretization\"][\"z\"]#2400\n",
    "\n",
    "            xx = np.linspace(xmin*2*np.pi, xmax*2*np.pi, nofxs)\n",
    "            yy = np.linspace(ymin*2*np.pi, ymax*2*np.pi, nofys)\n",
    "            zz = np.linspace(zmin*2*np.pi, zmax*2*np.pi, nofzs)\n",
    "            self.d_sampling_rate = zz[1] - zz[0]\n",
    "            self.nofzs = nofzs\n",
    "            self.x,self.y,self.z = np.meshgrid(xx,yy,zz, indexing='xy')\n",
    "        elif (self.coord_type == \"polar\"):\n",
    "            zmin = params_dict[\"coords\"][\"zmin\"]#-15\n",
    "            zmax = params_dict[\"coords\"][\"zmax\"]#15\n",
    "            nofzs = params_dict[\"discretization\"][\"z\"]#2400\n",
    "            zz = np.linspace(zmin*2*np.pi, zmax*2*np.pi, nofzs)\n",
    "            self.d_sampling_rate = zz[1] - zz[0]\n",
    "            rhos = np.linspace(0, 7*2*np.pi, 20)\n",
    "            phis = np.linspace(0, 2*np.pi, 150)\n",
    "\n",
    "            self.r,self.phi,self.z = np.meshgrid(rhos,phis,zz, indexing='xy')\n",
    "        else:\n",
    "            raise ValueError(\"Unsupported coordinate type!\\\n",
    "            Supported values are [\\'cartesian\\', \\'polar\\']\")\n",
    "    @staticmethod\n",
    "    def calculate_spectrum(field, d_rate):\n",
    "        fft_res = np.fft.fft(field, axis=2)\n",
    "        fft_freq = np.fft.fftfreq(len(field[1,1,:]), d=d_rate)\n",
    "        return fft_res, fft_freq\n",
    "        \n",
    "    @staticmethod\n",
    "    def LG_mode(mode_params, tau, r, phi, z):\n",
    "        mode, arg, p,m = LG_mode_accelerated(mode_params.m, \n",
    "                                         mode_params.p, \n",
    "                                         mode_params.Mp, \n",
    "                                         mode_params.w0, \n",
    "                                         mode_params.a0, tau, r, phi, z)\n",
    "        Lpm = genlaguerre(p, np.abs(m))\n",
    "        mode = mode * Lpm(arg)\n",
    "        return mode\n",
    "    \n",
    "    @staticmethod\n",
    "    def get_interp_field(z, zd, refl_field):\n",
    "        refl_field_interp = np.zeros_like(refl_field)\n",
    "        for i in range(z.shape[0]):\n",
    "            for j in range(z.shape[1]):\n",
    "                refl_field_interp[i,j,:] = np.interp(z[i,j,:], zd[i,j,:], refl_field[i,j,:])\n",
    "        return refl_field_interp\n",
    "    \n",
    "    def coords_polar(self):\n",
    "        if self.coord_type ==\"polar\":\n",
    "            return self.r, self.phi\n",
    "        else:\n",
    "            r = np.sqrt(self.x**2+self.y**2)\n",
    "\n",
    "            xiy = self.x + 1j*self.y\n",
    "            phi = np.angle(xiy)\n",
    "            return r, phi\n",
    "        \n",
    "    def calculate_field(self):\n",
    "        r, phi = self.coords_polar()\n",
    "        start = datetime.now()\n",
    "        print(\"Calculating LG modes...\", end=\"\")\n",
    "        LG_mode_1 = self.LG_mode(self.mode_params[0], self.tau, r, phi, self.z-self.delay/2)\n",
    "        field_x = np.abs(LG_mode_1) * np.cos(np.angle(LG_mode_1))\n",
    "\n",
    "        LG_mode_2 = self.LG_mode(self.mode_params[1], self.tau, r, phi, self.z+self.delay/2)\n",
    "        field_x = field_x + np.abs(LG_mode_2) * np.cos(np.angle(LG_mode_2))\n",
    "        \n",
    "        print(\"OK!\")\n",
    "        \n",
    "        envelope1 = np.abs(LG_mode_1)\n",
    "        envelope2 = np.abs(LG_mode_2)\n",
    "        \n",
    "        print(\"Calculating reflected fields...\", end=\"\")\n",
    "        full_envelope = np.sqrt(envelope1**2 + \\\n",
    "                            envelope2**2 + 2*envelope1*envelope2*\\\n",
    "                            np.cos(np.angle(LG_mode_2)-np.angle(LG_mode_1)))\n",
    "\n",
    "        zmirror = 1./(1+full_envelope ** 2)*(envelope1*np.cos(np.angle(LG_mode_1))+\\\n",
    "                                                 envelope2*np.cos(np.angle(LG_mode_2)))**2\n",
    "\n",
    "        refl_field = envelope1 * np.cos(np.angle(self.LG_mode(self.mode_params[0], \n",
    "                                                              self.tau, r, phi, self.z-self.delay/2+zmirror)))\n",
    "        refl_field = refl_field + envelope2 * np.cos(np.angle(self.LG_mode(self.mode_params[1],\n",
    "                                                              self.tau, r, phi, self.z+self.delay/2+zmirror)))\n",
    "\n",
    "        zd = self.z-zmirror\n",
    "        \n",
    "        self.incident_field = field_x\n",
    "        self.zmirror = zmirror\n",
    "        self.full_envelope = full_envelope\n",
    "        self.refl_field = self.get_interp_field(self.z, zd, refl_field)\n",
    "        print(\"OK!\")\n",
    "        print(\"Calculating field spectrum...\", end=\"\")\n",
    "        self.fft_result, self.fft_freq = self.calculate_spectrum(self.refl_field, \n",
    "                                                                 self.d_sampling_rate)\n",
    "        self.fitted = True\n",
    "        print(f\"OK!\\nFinished training in {(datetime.now()-start).total_seconds()} seconds.\")\n",
    "        return True\n",
    "    def plot_incident_field(self, ):\n",
    "        pass\n",
    "    def calculate_radial_spectrum(self, rho):\n",
    "        r, phi = self.coords_polar()\n",
    "        try:\n",
    "            field_slice = self.incident_field[:,rho, :]\n",
    "        except:\n",
    "            print(f\"Invalid rho value ({rho})!\")\n",
    "            return\n",
    "        radial_spectrum = np.fft.fft(field_slice, axis=1)\n",
    "        frequencies = np.fft.fftfreq(self.nofzs, self.d_sampling_rate)\n",
    "        return radial_spectrum, frequencies"
   ]
  },
  {
   "cell_type": "code",
   "execution_count": 24,
   "metadata": {},
   "outputs": [],
   "source": [
    "params_dict = {\n",
    "    \"mode_0\" : [3., 1, 0, 1., 3.**2*np.pi],\n",
    "    \"mode_1\" : [3., 2, 0, 1., 3.**2*np.pi],\n",
    "    \"coords\" :\n",
    "        {\n",
    "            \"type\": \"cartesian\",\n",
    "            \"xmin\": -10,\n",
    "            \"xmax\": 10,\n",
    "            \"ymin\": -10,\n",
    "            \"ymax\": 10,\n",
    "            \"zmin\": -15,\n",
    "            \"zmax\": 15\n",
    "        },\n",
    "    \"tau\": 4*2*np.pi,\n",
    "    \"delay\": -2*4*2*np.pi,\n",
    "    \"discretization\": {\n",
    "                        \"x\": 60,\n",
    "                        \"y\": 60,\n",
    "                        \"z\": 2400\n",
    "    }\n",
    "               }"
   ]
  },
  {
   "cell_type": "code",
   "execution_count": 25,
   "metadata": {},
   "outputs": [],
   "source": [
    "params_dict = {\n",
    "    \"mode_0\" : [3., 1, 0, 1., 3.**2*np.pi],\n",
    "    \"mode_1\" : [3., 2, 0, 1., 3.**2*np.pi],\n",
    "    \"coords\" :\n",
    "        {\n",
    "            \"type\": \"polar\",\n",
    "            \"zmin\": -15,\n",
    "            \"zmax\": 15\n",
    "        },\n",
    "    \"tau\": 4*2*np.pi,\n",
    "    \"delay\": -2*4*2*np.pi,\n",
    "    \"discretization\": {\n",
    "            \n",
    "                        \"z\": 2400\n",
    "    }\n",
    "               }"
   ]
  },
  {
   "cell_type": "code",
   "execution_count": 26,
   "metadata": {},
   "outputs": [],
   "source": [
    "lg_mode = LG_mode_generation(params_dict)"
   ]
  },
  {
   "cell_type": "code",
   "execution_count": 27,
   "metadata": {},
   "outputs": [
    {
     "name": "stdout",
     "output_type": "stream",
     "text": [
      "Calculating LG modes...OK!\n",
      "Calculating reflected fields...OK!\n",
      "Calculating field spectrum...OK!\n",
      "Finished training in 5.625033 seconds.\n"
     ]
    },
    {
     "data": {
      "text/plain": [
       "True"
      ]
     },
     "execution_count": 27,
     "metadata": {},
     "output_type": "execute_result"
    }
   ],
   "source": [
    "lg_mode.calculate_field()"
   ]
  },
  {
   "cell_type": "code",
   "execution_count": 11,
   "metadata": {},
   "outputs": [
    {
     "data": {
      "text/plain": [
       "(150, 20, 2400)"
      ]
     },
     "execution_count": 11,
     "metadata": {},
     "output_type": "execute_result"
    }
   ],
   "source": [
    "lg_mode.refl_field.shape"
   ]
  },
  {
   "cell_type": "code",
   "execution_count": 44,
   "metadata": {},
   "outputs": [],
   "source": [
    "field = lg_mode.incident_field[9,10,:]"
   ]
  },
  {
   "cell_type": "code",
   "execution_count": 53,
   "metadata": {},
   "outputs": [
    {
     "data": {
      "text/plain": [
       "array([ 0.027323  ,  0.02510066,  0.0226835 ,  0.02008326,  0.01731304,\n",
       "        0.01438721,  0.01132137,  0.00813227,  0.0048377 ,  0.00145645,\n",
       "       -0.00199186, -0.00548683, -0.00900743, -0.01253211, -0.01603893,\n",
       "       -0.01950569, -0.02291004, -0.02622968, -0.02944244, -0.03252644,\n",
       "       -0.03546024, -0.03822299, -0.04079456, -0.04315565, -0.04528798,\n",
       "       -0.04717439, -0.04879897, -0.05014718, -0.05120597, -0.05196388,\n",
       "       -0.05241114, -0.05253977, -0.05234365, -0.05181858, -0.05096237,\n",
       "       -0.04977485, -0.04825792, -0.04641559, -0.04425395, -0.0417812 ,\n",
       "       -0.03900764, -0.03594559, -0.0326094 , -0.02901537, -0.02518167,\n",
       "       -0.02112828, -0.01687688, -0.01245074, -0.00787461, -0.00317458,\n",
       "        0.00162207,  0.00648699,  0.01139096,  0.01630402,  0.02119569,\n",
       "        0.02603511,  0.03079126,  0.03543313,  0.03992993,  0.04425128,\n",
       "        0.0483674 ,  0.05224931,  0.05586906,  0.05919985,  0.06221627,\n",
       "        0.06489449,  0.06721238,  0.06914973,  0.07068839,  0.0718124 ,\n",
       "        0.07250813,  0.07276445,  0.07257275,  0.07192712,  0.07082438,\n",
       "        0.06926416,  0.06724894,  0.06478408,  0.06187785,  0.0585414 ,\n",
       "        0.05478874,  0.05063671,  0.04610489,  0.04121557,  0.0359936 ,\n",
       "        0.03046631,  0.02466336,  0.01861659,  0.01235986,  0.00592888,\n",
       "       -0.000639  , -0.00730502, -0.01402916, -0.02077046, -0.02748721])"
      ]
     },
     "execution_count": 53,
     "metadata": {},
     "output_type": "execute_result"
    }
   ],
   "source": [
    "field[0:95]"
   ]
  },
  {
   "cell_type": "code",
   "execution_count": 56,
   "metadata": {},
   "outputs": [],
   "source": [
    "window_length = 95\n",
    "out_shape = field.shape[0] - window_length + 1\n",
    "spectrogram_result = np.zeros((out_shape,window_length), dtype=np.complex)\n",
    "\n",
    "for i in range(out_shape):\n",
    "    window = (i, i+ window_length)\n",
    "    stft = np.fft.fft(field[i:i+window_length])\n",
    "    spectrogram_result[i,:] = stft"
   ]
  },
  {
   "cell_type": "code",
   "execution_count": 81,
   "metadata": {},
   "outputs": [
    {
     "data": {
      "text/plain": [
       "(2306, 95)"
      ]
     },
     "execution_count": 81,
     "metadata": {},
     "output_type": "execute_result"
    }
   ],
   "source": [
    "spectrogram_result.shape"
   ]
  },
  {
   "cell_type": "code",
   "execution_count": 83,
   "metadata": {},
   "outputs": [],
   "source": [
    "x = np.arange(96)\n",
    "y = np.arange(2307)"
   ]
  },
  {
   "cell_type": "code",
   "execution_count": 85,
   "metadata": {},
   "outputs": [
    {
     "ename": "TypeError",
     "evalue": "Dimensions of C (2306, 95) are incompatible with X (2307) and/or Y (96); see help(pcolormesh)",
     "output_type": "error",
     "traceback": [
      "\u001b[0;31m---------------------------------------------------------------------------\u001b[0m",
      "\u001b[0;31mTypeError\u001b[0m                                 Traceback (most recent call last)",
      "\u001b[0;32m<ipython-input-85-2c1e9d6a01b1>\u001b[0m in \u001b[0;36m<module>\u001b[0;34m\u001b[0m\n\u001b[0;32m----> 1\u001b[0;31m \u001b[0mplt\u001b[0m\u001b[0;34m.\u001b[0m\u001b[0mpcolormesh\u001b[0m\u001b[0;34m(\u001b[0m\u001b[0my\u001b[0m\u001b[0;34m,\u001b[0m\u001b[0mx\u001b[0m\u001b[0;34m,\u001b[0m \u001b[0mspectrogram_result\u001b[0m\u001b[0;34m)\u001b[0m\u001b[0;34m\u001b[0m\u001b[0;34m\u001b[0m\u001b[0m\n\u001b[0m",
      "\u001b[0;32m~/.local/lib/python3.6/site-packages/matplotlib/pyplot.py\u001b[0m in \u001b[0;36mpcolormesh\u001b[0;34m(alpha, norm, cmap, vmin, vmax, shading, antialiased, data, *args, **kwargs)\u001b[0m\n\u001b[1;32m   2802\u001b[0m         \u001b[0;34m*\u001b[0m\u001b[0margs\u001b[0m\u001b[0;34m,\u001b[0m \u001b[0malpha\u001b[0m\u001b[0;34m=\u001b[0m\u001b[0malpha\u001b[0m\u001b[0;34m,\u001b[0m \u001b[0mnorm\u001b[0m\u001b[0;34m=\u001b[0m\u001b[0mnorm\u001b[0m\u001b[0;34m,\u001b[0m \u001b[0mcmap\u001b[0m\u001b[0;34m=\u001b[0m\u001b[0mcmap\u001b[0m\u001b[0;34m,\u001b[0m \u001b[0mvmin\u001b[0m\u001b[0;34m=\u001b[0m\u001b[0mvmin\u001b[0m\u001b[0;34m,\u001b[0m\u001b[0;34m\u001b[0m\u001b[0;34m\u001b[0m\u001b[0m\n\u001b[1;32m   2803\u001b[0m         \u001b[0mvmax\u001b[0m\u001b[0;34m=\u001b[0m\u001b[0mvmax\u001b[0m\u001b[0;34m,\u001b[0m \u001b[0mshading\u001b[0m\u001b[0;34m=\u001b[0m\u001b[0mshading\u001b[0m\u001b[0;34m,\u001b[0m \u001b[0mantialiased\u001b[0m\u001b[0;34m=\u001b[0m\u001b[0mantialiased\u001b[0m\u001b[0;34m,\u001b[0m\u001b[0;34m\u001b[0m\u001b[0;34m\u001b[0m\u001b[0m\n\u001b[0;32m-> 2804\u001b[0;31m         **({\"data\": data} if data is not None else {}), **kwargs)\n\u001b[0m\u001b[1;32m   2805\u001b[0m     \u001b[0msci\u001b[0m\u001b[0;34m(\u001b[0m\u001b[0m__ret\u001b[0m\u001b[0;34m)\u001b[0m\u001b[0;34m\u001b[0m\u001b[0;34m\u001b[0m\u001b[0m\n\u001b[1;32m   2806\u001b[0m     \u001b[0;32mreturn\u001b[0m \u001b[0m__ret\u001b[0m\u001b[0;34m\u001b[0m\u001b[0;34m\u001b[0m\u001b[0m\n",
      "\u001b[0;32m~/.local/lib/python3.6/site-packages/matplotlib/__init__.py\u001b[0m in \u001b[0;36minner\u001b[0;34m(ax, data, *args, **kwargs)\u001b[0m\n\u001b[1;32m   1436\u001b[0m     \u001b[0;32mdef\u001b[0m \u001b[0minner\u001b[0m\u001b[0;34m(\u001b[0m\u001b[0max\u001b[0m\u001b[0;34m,\u001b[0m \u001b[0;34m*\u001b[0m\u001b[0margs\u001b[0m\u001b[0;34m,\u001b[0m \u001b[0mdata\u001b[0m\u001b[0;34m=\u001b[0m\u001b[0;32mNone\u001b[0m\u001b[0;34m,\u001b[0m \u001b[0;34m**\u001b[0m\u001b[0mkwargs\u001b[0m\u001b[0;34m)\u001b[0m\u001b[0;34m:\u001b[0m\u001b[0;34m\u001b[0m\u001b[0;34m\u001b[0m\u001b[0m\n\u001b[1;32m   1437\u001b[0m         \u001b[0;32mif\u001b[0m \u001b[0mdata\u001b[0m \u001b[0;32mis\u001b[0m \u001b[0;32mNone\u001b[0m\u001b[0;34m:\u001b[0m\u001b[0;34m\u001b[0m\u001b[0;34m\u001b[0m\u001b[0m\n\u001b[0;32m-> 1438\u001b[0;31m             \u001b[0;32mreturn\u001b[0m \u001b[0mfunc\u001b[0m\u001b[0;34m(\u001b[0m\u001b[0max\u001b[0m\u001b[0;34m,\u001b[0m \u001b[0;34m*\u001b[0m\u001b[0mmap\u001b[0m\u001b[0;34m(\u001b[0m\u001b[0msanitize_sequence\u001b[0m\u001b[0;34m,\u001b[0m \u001b[0margs\u001b[0m\u001b[0;34m)\u001b[0m\u001b[0;34m,\u001b[0m \u001b[0;34m**\u001b[0m\u001b[0mkwargs\u001b[0m\u001b[0;34m)\u001b[0m\u001b[0;34m\u001b[0m\u001b[0;34m\u001b[0m\u001b[0m\n\u001b[0m\u001b[1;32m   1439\u001b[0m \u001b[0;34m\u001b[0m\u001b[0m\n\u001b[1;32m   1440\u001b[0m         \u001b[0mbound\u001b[0m \u001b[0;34m=\u001b[0m \u001b[0mnew_sig\u001b[0m\u001b[0;34m.\u001b[0m\u001b[0mbind\u001b[0m\u001b[0;34m(\u001b[0m\u001b[0max\u001b[0m\u001b[0;34m,\u001b[0m \u001b[0;34m*\u001b[0m\u001b[0margs\u001b[0m\u001b[0;34m,\u001b[0m \u001b[0;34m**\u001b[0m\u001b[0mkwargs\u001b[0m\u001b[0;34m)\u001b[0m\u001b[0;34m\u001b[0m\u001b[0;34m\u001b[0m\u001b[0m\n",
      "\u001b[0;32m~/.local/lib/python3.6/site-packages/matplotlib/axes/_axes.py\u001b[0m in \u001b[0;36mpcolormesh\u001b[0;34m(self, alpha, norm, cmap, vmin, vmax, shading, antialiased, *args, **kwargs)\u001b[0m\n\u001b[1;32m   6092\u001b[0m \u001b[0;34m\u001b[0m\u001b[0m\n\u001b[1;32m   6093\u001b[0m         X, Y, C, shading = self._pcolorargs('pcolormesh', *args,\n\u001b[0;32m-> 6094\u001b[0;31m                                             shading=shading)\n\u001b[0m\u001b[1;32m   6095\u001b[0m         \u001b[0mNy\u001b[0m\u001b[0;34m,\u001b[0m \u001b[0mNx\u001b[0m \u001b[0;34m=\u001b[0m \u001b[0mX\u001b[0m\u001b[0;34m.\u001b[0m\u001b[0mshape\u001b[0m\u001b[0;34m\u001b[0m\u001b[0;34m\u001b[0m\u001b[0m\n\u001b[1;32m   6096\u001b[0m         \u001b[0mX\u001b[0m \u001b[0;34m=\u001b[0m \u001b[0mX\u001b[0m\u001b[0;34m.\u001b[0m\u001b[0mravel\u001b[0m\u001b[0;34m(\u001b[0m\u001b[0;34m)\u001b[0m\u001b[0;34m\u001b[0m\u001b[0;34m\u001b[0m\u001b[0m\n",
      "\u001b[0;32m~/.local/lib/python3.6/site-packages/matplotlib/axes/_axes.py\u001b[0m in \u001b[0;36m_pcolorargs\u001b[0;34m(funcname, shading, *args)\u001b[0m\n\u001b[1;32m   5608\u001b[0m                 raise TypeError('Dimensions of C %s are incompatible with'\n\u001b[1;32m   5609\u001b[0m                                 ' X (%d) and/or Y (%d); see help(%s)' % (\n\u001b[0;32m-> 5610\u001b[0;31m                                     C.shape, Nx, Ny, funcname))\n\u001b[0m\u001b[1;32m   5611\u001b[0m             \u001b[0;32mif\u001b[0m \u001b[0;34m(\u001b[0m\u001b[0mncols\u001b[0m \u001b[0;34m==\u001b[0m \u001b[0mNx\u001b[0m \u001b[0;32mor\u001b[0m \u001b[0mnrows\u001b[0m \u001b[0;34m==\u001b[0m \u001b[0mNy\u001b[0m\u001b[0;34m)\u001b[0m\u001b[0;34m:\u001b[0m\u001b[0;34m\u001b[0m\u001b[0;34m\u001b[0m\u001b[0m\n\u001b[1;32m   5612\u001b[0m                 cbook.warn_deprecated(\n",
      "\u001b[0;31mTypeError\u001b[0m: Dimensions of C (2306, 95) are incompatible with X (2307) and/or Y (96); see help(pcolormesh)"
     ]
    },
    {
     "data": {
      "image/png": "[encoded data removed]",
      "text/plain": [
       "<Figure size 432x288 with 1 Axes>"
      ]
     },
     "metadata": {
      "needs_background": "light"
     },
     "output_type": "display_data"
    }
   ],
   "source": [
    "plt.pcolormesh(y,x, spectrogram_result)"
   ]
  },
  {
   "cell_type": "code",
   "execution_count": 99,
   "metadata": {},
   "outputs": [
    {
     "data": {
      "text/plain": [
       "array([ 0.2126136 +0.00000000e+00j,  2.53356394-2.85454135e+00j,\n",
       "        0.02155285+1.34323036e+00j, -0.0487221 +6.88637938e-01j,\n",
       "       -0.0553836 +4.76302115e-01j, -0.05687364+3.66923077e-01j,\n",
       "       -0.05735224+2.99018497e-01j, -0.0575411 +2.52309334e-01j,\n",
       "       -0.05762623+2.18003018e-01j, -0.05766829+1.91622923e-01j,\n",
       "       -0.05769047+1.70633274e-01j, -0.05770274+1.53483684e-01j,\n",
       "       -0.05770974+1.39170046e-01j, -0.05771381+1.27012057e-01j,\n",
       "       -0.05771619+1.16531729e-01j, -0.05771758+1.07383003e-01j,\n",
       "       -0.05771835+9.93089471e-02j, -0.05771875+9.21146518e-02j,\n",
       "       -0.05771891+8.56494884e-02j, -0.05771894+7.97951396e-02j,\n",
       "       -0.05771887+7.44573248e-02j, -0.05771875+6.95599486e-02j,\n",
       "       -0.0577186 +6.50408824e-02j, -0.05771844+6.08488692e-02j,\n",
       "       -0.05771827+5.69412161e-02j, -0.0577181 +5.32820510e-02j,\n",
       "       -0.05771794+4.98409867e-02j, -0.05771778+4.65920864e-02j,\n",
       "       -0.05771763+4.35130537e-02j, -0.05771749+4.05845907e-02j,\n",
       "       -0.05771736+3.77898869e-02j, -0.05771724+3.51142063e-02j,\n",
       "       -0.05771713+3.25445523e-02j, -0.05771703+3.00693943e-02j,\n",
       "       -0.05771693+2.76784405e-02j, -0.05771685+2.53624505e-02j,\n",
       "       -0.05771677+2.31130781e-02j, -0.0577167 +2.09227381e-02j,\n",
       "       -0.05771664+1.87844940e-02j, -0.05771659+1.66919613e-02j,\n",
       "       -0.05771654+1.46392242e-02j, -0.0577165 +1.26207630e-02j,\n",
       "       -0.05771646+1.06313903e-02j, -0.05771643+8.66619440e-03j,\n",
       "       -0.05771641+6.72048786e-03j, -0.05771639+4.78976139e-03j,\n",
       "       -0.05771638+2.86964067e-03j, -0.05771638+9.55846055e-04j,\n",
       "       -0.05771638-9.55846055e-04j, -0.05771638-2.86964067e-03j,\n",
       "       -0.05771639-4.78976139e-03j, -0.05771641-6.72048786e-03j,\n",
       "       -0.05771643-8.66619440e-03j, -0.05771646-1.06313903e-02j,\n",
       "       -0.0577165 -1.26207630e-02j, -0.05771654-1.46392242e-02j,\n",
       "       -0.05771659-1.66919613e-02j, -0.05771664-1.87844940e-02j,\n",
       "       -0.0577167 -2.09227381e-02j, -0.05771677-2.31130781e-02j,\n",
       "       -0.05771685-2.53624505e-02j, -0.05771693-2.76784405e-02j,\n",
       "       -0.05771703-3.00693943e-02j, -0.05771713-3.25445523e-02j,\n",
       "       -0.05771724-3.51142063e-02j, -0.05771736-3.77898869e-02j,\n",
       "       -0.05771749-4.05845907e-02j, -0.05771763-4.35130537e-02j,\n",
       "       -0.05771778-4.65920864e-02j, -0.05771794-4.98409867e-02j,\n",
       "       -0.0577181 -5.32820510e-02j, -0.05771827-5.69412161e-02j,\n",
       "       -0.05771844-6.08488692e-02j, -0.0577186 -6.50408824e-02j,\n",
       "       -0.05771875-6.95599486e-02j, -0.05771887-7.44573248e-02j,\n",
       "       -0.05771894-7.97951396e-02j, -0.05771891-8.56494884e-02j,\n",
       "       -0.05771875-9.21146518e-02j, -0.05771835-9.93089471e-02j,\n",
       "       -0.05771758-1.07383003e-01j, -0.05771619-1.16531729e-01j,\n",
       "       -0.05771381-1.27012057e-01j, -0.05770974-1.39170046e-01j,\n",
       "       -0.05770274-1.53483684e-01j, -0.05769047-1.70633274e-01j,\n",
       "       -0.05766829-1.91622923e-01j, -0.05762623-2.18003018e-01j,\n",
       "       -0.0575411 -2.52309334e-01j, -0.05735224-2.99018497e-01j,\n",
       "       -0.05687364-3.66923077e-01j, -0.0553836 -4.76302115e-01j,\n",
       "       -0.0487221 -6.88637938e-01j,  0.02155285-1.34323036e+00j,\n",
       "        2.53356394+2.85454135e+00j])"
      ]
     },
     "execution_count": 99,
     "metadata": {},
     "output_type": "execute_result"
    }
   ],
   "source": [
    "spectrogram_result[50]"
   ]
  },
  {
   "cell_type": "code",
   "execution_count": 97,
   "metadata": {},
   "outputs": [
    {
     "name": "stdout",
     "output_type": "stream",
     "text": [
      "(2306, 95)\n"
     ]
    },
    {
     "data": {
      "text/plain": [
       "<matplotlib.collections.QuadMesh at 0x7f1161d0d160>"
      ]
     },
     "execution_count": 97,
     "metadata": {},
     "output_type": "execute_result"
    },
    {
     "data": {
      "image/png": "[encoded data removed]",
      "text/plain": [
       "<Figure size 432x288 with 1 Axes>"
      ]
     },
     "metadata": {
      "needs_background": "light"
     },
     "output_type": "display_data"
    }
   ],
   "source": [
    "nrows = 2306\n",
    "ncols = 95\n",
    "Z = np.abs(spectrogram_result)\n",
    "print(Z.shape)\n",
    "x = np.arange(ncols + 1)\n",
    "y = np.arange(nrows + 1)\n",
    "\n",
    "\n",
    "plt.pcolormesh(x, y, Z,)"
   ]
  },
  {
   "cell_type": "code",
   "execution_count": 94,
   "metadata": {},
   "outputs": [
    {
     "data": {
      "text/plain": [
       "True"
      ]
     },
     "execution_count": 94,
     "metadata": {},
     "output_type": "execute_result"
    }
   ],
   "source": [
    "spectrogram_result.shape == Z.shape"
   ]
  },
  {
   "cell_type": "code",
   "execution_count": 77,
   "metadata": {},
   "outputs": [
    {
     "data": {
      "text/plain": [
       "(4,)"
      ]
     },
     "execution_count": 77,
     "metadata": {},
     "output_type": "execute_result"
    }
   ],
   "source": [
    "y.shape"
   ]
  },
  {
   "cell_type": "code",
   "execution_count": 76,
   "metadata": {},
   "outputs": [
    {
     "data": {
      "text/plain": [
       "(3, 5)"
      ]
     },
     "execution_count": 76,
     "metadata": {},
     "output_type": "execute_result"
    }
   ],
   "source": [
    "Z.shape"
   ]
  },
  {
   "cell_type": "code",
   "execution_count": null,
   "metadata": {},
   "outputs": [],
   "source": []
  }
 ],
 "metadata": {
  "kernelspec": {
   "display_name": "Python 3",
   "language": "python",
   "name": "python3"
  },
  "language_info": {
   "codemirror_mode": {
    "name": "ipython",
    "version": 3
   },
   "file_extension": ".py",
   "mimetype": "text/x-python",
   "name": "python",
   "nbconvert_exporter": "python",
   "pygments_lexer": "ipython3",
   "version": "3.6.9"
  }
 },
 "nbformat": 4,
 "nbformat_minor": 2
}
