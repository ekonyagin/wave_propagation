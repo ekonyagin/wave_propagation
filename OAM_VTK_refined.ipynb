{
 "cells": [
  {
   "cell_type": "code",
   "execution_count": 1,
   "metadata": {},
   "outputs": [],
   "source": [
    "from datetime import datetime\n",
    "import numpy as np\n",
    "import matplotlib.pyplot as plt\n",
    "from numba import jit, float64, complex128, int64, types, objmode\n",
    "\n",
    "from matplotlib.patches import Circle\n",
    "\n",
    "\n",
    "from collections import namedtuple as nt\n",
    "mode_params=nt(\"mode_params\", \"a0 m p Mp w0\")\n",
    "\n",
    "from scipy.special import hermite, genlaguerre\n",
    "\n",
    "%matplotlib inline"
   ]
  },
  {
   "cell_type": "code",
   "execution_count": 2,
   "metadata": {},
   "outputs": [],
   "source": [
    "@jit(types.Tuple((complex128[:,:,:], \n",
    "                  float64[:,:,:], \n",
    "                  int64, \n",
    "                  int64))\n",
    "     (int64, \n",
    "      int64, \n",
    "      float64, \n",
    "      float64, \n",
    "      float64, \n",
    "      float64, \n",
    "      float64[:,:,:], \n",
    "      float64[:,:,:], \n",
    "      float64[:,:,:]), cache=True, nopython=True, parallel=True)\n",
    "def LG_mode_accelerated(mode_params_m, \n",
    "                        mode_params_p, \n",
    "                        mode_params_Mp, \n",
    "                        mode_params_w0, \n",
    "                        mode_params_a0, tau, r, phi, z):\n",
    "    a0 = mode_params_a0\n",
    "    m = mode_params_m  # mode number x\n",
    "    p = mode_params_p  # mode number y\n",
    "    Mp = mode_params_Mp\n",
    "    w0 = mode_params_w0\n",
    "    \n",
    "    #Lpm=genlaguerre(p,np.abs(m))\n",
    "\n",
    "    ZR = Mp*w0**2/2\n",
    "    ZR_sq = np.square(ZR)\n",
    "    r_sq = np.square(r)\n",
    "    z_sq = np.square(z)\n",
    "    \n",
    "    w = w0*np.sqrt(1+z_sq/ZR_sq)\n",
    "    w_sq = np.square(w)\n",
    "    chi = np.arctan(z/ZR)\n",
    "    \n",
    "    \n",
    "    #toret = 1/np.sqrt(w)*(r*np.sqrt(2)/w)**np.abs(m)\n",
    "    toret = (r*np.sqrt(2)/w)**np.abs(m)\n",
    "\n",
    "    exp_factor = np.exp(-1j*r_sq*z/2/(ZR_sq+z_sq) + 1j*m*phi -z_sq/2/tau**2 + \\\n",
    "                        1j*Mp*z -1j*(2*p+np.abs(m)+1)*chi-r_sq/w_sq)\n",
    "    toret = toret * exp_factor\n",
    "    \n",
    "    return a0*toret, 2*r_sq/w_sq, p, m"
   ]
  },
  {
   "cell_type": "code",
   "execution_count": 37,
   "metadata": {},
   "outputs": [],
   "source": [
    "class LG_mode_generation():\n",
    "    \n",
    "    \"\"\"\n",
    "        This class features the suport of LG modes generation and reflected field analysis.\n",
    "        After fitting, the following results are stored in corresponding member variables:\n",
    "            self.zmirror - describes the motion of target\n",
    "            self.refl_field - interpolated field generated after LG_mode interaction with target\n",
    "            self.fft_result - FFT transform of the reflected field\n",
    "            self.fft_freq - set of corresponding frequencies in FFT\n",
    "    \"\"\"\n",
    "    \n",
    "    def __init__(self, params_dict):\n",
    "        \n",
    "        self.fitted = False\n",
    "        self.mode_params = []\n",
    "        self.mode_params.append(mode_params(*params_dict[\"mode_0\"])) ###mode_params\n",
    "        self.mode_params.append(mode_params(*params_dict[\"mode_1\"])) ###mode_params\n",
    "        self.coord_type = params_dict[\"coords\"][\"type\"]\n",
    "        \n",
    "        self.tau = params_dict[\"tau\"]\n",
    "        self.delay = params_dict[\"delay\"]\n",
    "        \n",
    "        if self.coord_type == \"cartesian\":\n",
    "            xmin = params_dict[\"coords\"][\"xmin\"]#-10\n",
    "            xmax = params_dict[\"coords\"][\"xmax\"]#10\n",
    "            ymin = params_dict[\"coords\"][\"ymin\"]#-10\n",
    "            ymax = params_dict[\"coords\"][\"ymax\"]#10\n",
    "            zmin = params_dict[\"coords\"][\"zmin\"]#-15\n",
    "            zmax = params_dict[\"coords\"][\"zmax\"]#15\n",
    "            \n",
    "            nofxs = params_dict[\"discretization\"][\"x\"]#60\n",
    "            nofys = params_dict[\"discretization\"][\"y\"]#60\n",
    "            nofzs = params_dict[\"discretization\"][\"z\"]#2400\n",
    "            \n",
    "            self.zmin, self.zmax = zmin, zmax\n",
    "            \n",
    "            xx = np.linspace(xmin*2*np.pi, xmax*2*np.pi, nofxs)\n",
    "            yy = np.linspace(ymin*2*np.pi, ymax*2*np.pi, nofys)\n",
    "            zz = np.linspace(zmin*2*np.pi, zmax*2*np.pi, nofzs)\n",
    "            self.d_sampling_rate = zz[1] - zz[0]\n",
    "            self.nofzs = nofzs\n",
    "            self.x,self.y,self.z = np.meshgrid(xx,yy,zz, indexing='xy')\n",
    "        elif (self.coord_type == \"polar\"):\n",
    "            zmin = params_dict[\"coords\"][\"zmin\"]#-15\n",
    "            zmax = params_dict[\"coords\"][\"zmax\"]#15\n",
    "            nofzs = params_dict[\"discretization\"][\"z\"]#2400\n",
    "            zz = np.linspace(zmin*2*np.pi, zmax*2*np.pi, nofzs)\n",
    "            self.d_sampling_rate = zz[1] - zz[0]\n",
    "            rhos = np.linspace(0, 7*2*np.pi, 20)\n",
    "            phis = np.linspace(0, 2*np.pi, 150)\n",
    "            \n",
    "            self.zmin, self.zmax = zmin, zmax\n",
    "            \n",
    "            self.r,self.phi,self.z = np.meshgrid(rhos,phis,zz, indexing='xy')\n",
    "        else:\n",
    "            raise ValueError(\"Unsupported coordinate type!\\\n",
    "            Supported values are [\\'cartesian\\', \\'polar\\']\")\n",
    "    @staticmethod\n",
    "    def calculate_spectrum(field, d_rate):\n",
    "        fft_res = np.fft.fft(field, axis=2)\n",
    "        fft_freq = np.fft.fftfreq(len(field[1,1,:]), d=d_rate)\n",
    "        return fft_res, fft_freq\n",
    "        \n",
    "    @staticmethod\n",
    "    def LG_mode(mode_params, tau, r, phi, z):\n",
    "        mode, arg, p,m = LG_mode_accelerated(mode_params.m, \n",
    "                                         mode_params.p, \n",
    "                                         mode_params.Mp, \n",
    "                                         mode_params.w0, \n",
    "                                         mode_params.a0, tau, r, phi, z)\n",
    "        Lpm = genlaguerre(p, np.abs(m))\n",
    "        mode = mode * Lpm(arg)\n",
    "        return mode\n",
    "    \n",
    "    @staticmethod\n",
    "    def get_interp_field(z, zd, refl_field):\n",
    "        refl_field_interp = np.zeros_like(refl_field)\n",
    "        for i in range(z.shape[0]):\n",
    "            for j in range(z.shape[1]):\n",
    "                refl_field_interp[i,j,:] = np.interp(z[i,j,:], zd[i,j,:], refl_field[i,j,:])\n",
    "        return refl_field_interp\n",
    "    \n",
    "    def coords_polar(self):\n",
    "        if self.coord_type ==\"polar\":\n",
    "            return self.r, self.phi\n",
    "        else:\n",
    "            r = np.sqrt(self.x**2+self.y**2)\n",
    "\n",
    "            xiy = self.x + 1j*self.y\n",
    "            phi = np.angle(xiy)\n",
    "            return r, phi\n",
    "        \n",
    "    def calculate_field(self):\n",
    "        r, phi = self.coords_polar()\n",
    "        start = datetime.now()\n",
    "        print(\"Calculating LG modes...\", end=\"\")\n",
    "        LG_mode_1 = self.LG_mode(self.mode_params[0], self.tau, r, phi, self.z-self.delay/2)\n",
    "        field_x = np.abs(LG_mode_1) * np.cos(np.angle(LG_mode_1))\n",
    "\n",
    "        LG_mode_2 = self.LG_mode(self.mode_params[1], self.tau, r, phi, self.z+self.delay/2)\n",
    "        field_x = field_x + np.abs(LG_mode_2) * np.cos(np.angle(LG_mode_2))\n",
    "        \n",
    "        print(\"OK!\")\n",
    "        \n",
    "        envelope1 = np.abs(LG_mode_1)\n",
    "        envelope2 = np.abs(LG_mode_2)\n",
    "        \n",
    "        print(\"Calculating reflected fields...\", end=\"\")\n",
    "        full_envelope = np.sqrt(envelope1**2 + \\\n",
    "                            envelope2**2 + 2*envelope1*envelope2*\\\n",
    "                            np.cos(np.angle(LG_mode_2)-np.angle(LG_mode_1)))\n",
    "\n",
    "        zmirror = 1./(1+full_envelope ** 2)*(envelope1*np.cos(np.angle(LG_mode_1))+\\\n",
    "                                                 envelope2*np.cos(np.angle(LG_mode_2)))**2\n",
    "\n",
    "        refl_field = envelope1 * np.cos(np.angle(self.LG_mode(self.mode_params[0], \n",
    "                                                              self.tau, r, phi, self.z-self.delay/2+zmirror)))\n",
    "        refl_field = refl_field + envelope2 * np.cos(np.angle(self.LG_mode(self.mode_params[1],\n",
    "                                                              self.tau, r, phi, self.z+self.delay/2+zmirror)))\n",
    "\n",
    "        zd = self.z-zmirror\n",
    "        \n",
    "        self.incident_field = field_x\n",
    "        self.zmirror = zmirror\n",
    "        self.full_envelope = full_envelope\n",
    "        self.refl_field = self.get_interp_field(self.z, zd, refl_field)\n",
    "        print(\"OK!\")\n",
    "        print(\"Calculating field spectrum...\", end=\"\")\n",
    "        self.fft_result, self.fft_freq = self.calculate_spectrum(self.refl_field, \n",
    "                                                                 self.d_sampling_rate)\n",
    "        self.fitted = True\n",
    "        print(f\"OK!\\nFinished training in {(datetime.now()-start).total_seconds()} seconds.\")\n",
    "        return True\n",
    "    def count_spectrogram(self, r, n_harmonics=3):\n",
    "        dz = self.d_sampling_rate/(2*np.pi)      # in wavelength\n",
    "\n",
    "        window_width = 2.0   # in wavelengths\n",
    "        dtau_window = 0.1    # in wavelengths\n",
    "        nofzs_window = (self.zmax - self.zmin)/dtau_window\n",
    "\n",
    "        omegas = np.fft.fftfreq(self.refl_field.shape[2], d=dz)\n",
    "\n",
    "        idx = np.argwhere(np.abs(np.abs(omegas)-n_harmonics)<1e-2)[0][0] #3rd harmonics idx\n",
    "\n",
    "        print(\"Counting spectrogram...\")\n",
    "        spectrogram = np.zeros((self.refl_field.shape[0], int(nofzs_window), 1), \n",
    "                               dtype=np.complex128)\n",
    "        for phi in range(self.refl_field.shape[0]):\n",
    "            field = self.refl_field[phi,r,:]\n",
    "            #sp=np.fft.fft(field)\n",
    "            specgram_phi = None\n",
    "            flag = False\n",
    "            for n in np.arange(nofzs_window):\n",
    "                window_pos = self.zmin+n * dtau_window\n",
    "                window_func = np.exp(-(self.z[phi, r,:]/2/np.pi - window_pos)**100/window_width**100)\n",
    "                y = field * window_func\n",
    "                sp = np.fft.fft(y)\n",
    "                if flag == False:\n",
    "                    specgram = sp[idx]\n",
    "                    flag = True\n",
    "                else:\n",
    "                    specgram = np.vstack([specgram, sp[idx]])\n",
    "            spectrogram[phi, :, :] = specgram\n",
    "            #specgram_global[r, phi] = specgram \n",
    "        #self.specgram = specgram_global\n",
    "        return spectrogram\n",
    "    def plot_incident_field(self, ):\n",
    "        pass\n",
    "    def calculate_radial_spectrum(self, rho):\n",
    "        r, phi = self.coords_polar()\n",
    "        try:\n",
    "            field_slice = self.incident_field[:,rho, :]\n",
    "        except:\n",
    "            print(f\"Invalid rho value ({rho})!\")\n",
    "            return\n",
    "        radial_spectrum = np.fft.fft(field_slice, axis=1)\n",
    "        frequencies = np.fft.fftfreq(self.nofzs, self.d_sampling_rate)\n",
    "        return radial_spectrum, frequencies"
   ]
  },
  {
   "cell_type": "code",
   "execution_count": null,
   "metadata": {},
   "outputs": [],
   "source": []
  },
  {
   "cell_type": "code",
   "execution_count": 38,
   "metadata": {},
   "outputs": [],
   "source": [
    "params_dict = {\n",
    "    \"mode_0\" : [3., 1, 0, 1., 3.**2*np.pi],\n",
    "    \"mode_1\" : [3., 2, 0, 1., 3.**2*np.pi],\n",
    "    \"coords\" :\n",
    "        {\n",
    "            \"type\": \"cartesian\",\n",
    "            \"xmin\": -10,\n",
    "            \"xmax\": 10,\n",
    "            \"ymin\": -10,\n",
    "            \"ymax\": 10,\n",
    "            \"zmin\": -15,\n",
    "            \"zmax\": 15\n",
    "        },\n",
    "    \"tau\": 4*2*np.pi,\n",
    "    \"delay\": -2*4*2*np.pi,\n",
    "    \"discretization\": {\n",
    "                        \"x\": 60,\n",
    "                        \"y\": 60,\n",
    "                        \"z\": 2400\n",
    "    }\n",
    "               }"
   ]
  },
  {
   "cell_type": "code",
   "execution_count": 39,
   "metadata": {},
   "outputs": [],
   "source": [
    "params_dict = {\n",
    "    \"mode_0\" : [3., 1, 0, 1., 3.**2*np.pi],\n",
    "    \"mode_1\" : [3., 2, 0, 1., 3.**2*np.pi],\n",
    "    \"coords\" :\n",
    "        {\n",
    "            \"type\": \"polar\",\n",
    "            \"zmin\": -15,\n",
    "            \"zmax\": 15\n",
    "        },\n",
    "    \"tau\": 4*2*np.pi,\n",
    "    \"delay\": -2*4*2*np.pi,\n",
    "    \"discretization\": {\n",
    "            \n",
    "                        \"z\": 2400\n",
    "    }\n",
    "               }"
   ]
  },
  {
   "cell_type": "code",
   "execution_count": 40,
   "metadata": {},
   "outputs": [],
   "source": [
    "lg_mode = LG_mode_generation(params_dict)"
   ]
  },
  {
   "cell_type": "code",
   "execution_count": 41,
   "metadata": {},
   "outputs": [
    {
     "name": "stdout",
     "output_type": "stream",
     "text": [
      "Calculating LG modes...OK!\n",
      "Calculating reflected fields...OK!\n",
      "Calculating field spectrum...OK!\n",
      "Finished training in 4.561374 seconds.\n"
     ]
    },
    {
     "data": {
      "text/plain": [
       "True"
      ]
     },
     "execution_count": 41,
     "metadata": {},
     "output_type": "execute_result"
    }
   ],
   "source": [
    "lg_mode.calculate_field()"
   ]
  },
  {
   "cell_type": "code",
   "execution_count": 42,
   "metadata": {},
   "outputs": [
    {
     "data": {
      "text/plain": [
       "(150, 20, 2400)"
      ]
     },
     "execution_count": 42,
     "metadata": {},
     "output_type": "execute_result"
    }
   ],
   "source": [
    "lg_mode.refl_field.shape"
   ]
  },
  {
   "cell_type": "code",
   "execution_count": 43,
   "metadata": {},
   "outputs": [
    {
     "name": "stdout",
     "output_type": "stream",
     "text": [
      "Counting spectrogram...\n"
     ]
    }
   ],
   "source": [
    "spectrogram = lg_mode.count_spectrogram(r=10)"
   ]
  },
  {
   "cell_type": "code",
   "execution_count": 44,
   "metadata": {},
   "outputs": [
    {
     "data": {
      "text/plain": [
       "(150, 300, 1)"
      ]
     },
     "execution_count": 44,
     "metadata": {},
     "output_type": "execute_result"
    }
   ],
   "source": [
    "spectrogram.shape"
   ]
  },
  {
   "cell_type": "code",
   "execution_count": 45,
   "metadata": {},
   "outputs": [
    {
     "data": {
      "text/plain": [
       "<matplotlib.image.AxesImage at 0x83a540c88>"
      ]
     },
     "execution_count": 45,
     "metadata": {},
     "output_type": "execute_result"
    },
    {
     "data": {
      "image/png": "[encoded data removed]",
      "text/plain": [
       "<Figure size 432x288 with 1 Axes>"
      ]
     },
     "metadata": {
      "needs_background": "light"
     },
     "output_type": "display_data"
    }
   ],
   "source": [
    "plt.imshow(np.abs(spectrogram[:,:,0]))"
   ]
  },
  {
   "cell_type": "code",
   "execution_count": null,
   "metadata": {},
   "outputs": [],
   "source": [
    "zmin = params_dict[\"coords\"][\"zmin\"]\n",
    "zmax = params_dict[\"coords\"][\"zmax\"]\n",
    "nofzs = params_dict[\"discretization\"][\"z\"]\n",
    "z = np.linspace(zmin*2*np.pi, zmax*2*np.pi, nofzs)\n",
    "\n",
    "plt.plot(z/2/np.pi, field)"
   ]
  },
  {
   "cell_type": "code",
   "execution_count": null,
   "metadata": {},
   "outputs": [],
   "source": [
    "dz = lg_mode.d_sampling_rate/(2*np.pi)      # in wavelength\n",
    "\n",
    "window_width = 2.0   # in wavelengths\n",
    "dtau_window = 0.1    # in wavelengths\n",
    "nofzs_window = (zmax - zmin)/dtau_window\n",
    "\n",
    "\n",
    "omegas = np.fft.fftfreq(lg_mode.refl_field.shape[2], d = dz)\n",
    "\n",
    "idx = np.argwhere(np.abs(np.abs(omegas)-3)<1e-2)[0][0] #3rd harmonics idx\n",
    "\n",
    "for r in range(lg_mode.refl_field.shape[0]):\n",
    "    print(r)\n",
    "    for phi in range(lg_mode.refl_field.shape[1]):\n",
    "        field = lg_mode.refl_field[r,phi,:]\n",
    "        sp=np.fft.fft(field)\n",
    "        specgram_global = np.zeros((lg_mode.refl_field.shape[0],\n",
    "                                    lg_mode.refl_field.shape[0] , 300,1), dtype=np.complex128)\n",
    "        flag = False\n",
    "        for n in np.arange(nofzs_window):\n",
    "            window_pos = zmin+n * dtau_window\n",
    "            window_func = np.exp(-(z/2/np.pi - window_pos)**100/window_width**100)\n",
    "            y = field * window_func\n",
    "            sp = np.fft.fft(y)\n",
    "\n",
    "            # index 3rd harmonic\n",
    "            # for example sp[10] corresponds to 3rd harmonic\n",
    "            # r,phi, angle(sp[10])\n",
    "\n",
    "            if flag == False:\n",
    "                specgram = sp[idx]\n",
    "                flag = True\n",
    "            else:\n",
    "                specgram = np.vstack([specgram, sp[idx]])\n",
    "        #print(specgram.shape)\n",
    "        specgram_global[r, phi] = specgram "
   ]
  },
  {
   "cell_type": "code",
   "execution_count": null,
   "metadata": {},
   "outputs": [],
   "source": []
  },
  {
   "cell_type": "code",
   "execution_count": null,
   "metadata": {},
   "outputs": [],
   "source": [
    "plt.imshow(np.abs(specgram.T), aspect='auto')"
   ]
  },
  {
   "cell_type": "code",
   "execution_count": null,
   "metadata": {},
   "outputs": [],
   "source": []
  },
  {
   "cell_type": "code",
   "execution_count": null,
   "metadata": {},
   "outputs": [],
   "source": [
    "omegas = np.fft.fftfreq(lg_mode.refl_field.shape[2], d = dz)\n",
    "@jit((complex128[:,:,:,:](float64[:,:,:],float64, float64, float64, float64[:])), cache=True, parallel=True)\n",
    "def calculate_specgram(refl_field, dz, zmin, zmax, omegas):\n",
    "    #dz = lg_mode.d_sampling_rate/(2*np.pi)      # in wavelength\n",
    "\n",
    "    window_width = 2.0   # in wavelengths\n",
    "    dtau_window = 0.1    # in wavelengths\n",
    "    nofzs_window = (zmax - zmin)/dtau_window\n",
    "\n",
    "    flag = False\n",
    "\n",
    "    \n",
    "    idx = np.argwhere(np.abs(np.abs(omegas)-3)<1e-2)[0][0] #3rd harmonics idx\n",
    "    for r in range(refl_field.shape[0]):\n",
    "        print(r)\n",
    "        for phi in range(refl_field.shape[1]):\n",
    "            field = refl_field[r,phi,:]\n",
    "            sp=np.fft.fft(field)\n",
    "            for n in np.arange(nofzs_window):\n",
    "                window_pos = zmin+n * dtau_window\n",
    "                window_func = np.exp(-(z/2/np.pi - window_pos)**100/window_width**100)\n",
    "                y = field * window_func\n",
    "                with objmode(out='complex128[:,:]'):\n",
    "                    sp = np.fft.fft(y)\n",
    "\n",
    "                # index 3rd harmonic\n",
    "                # for example sp[10] corresponds to 3rd harmonic\n",
    "                # r,phi, angle(sp[10])\n",
    "\n",
    "                if flag == False:\n",
    "                    specgram = sp[idx]\n",
    "                    flag = True\n",
    "                else:\n",
    "                    specgram = np.vstack([specgram, sp[idx]])"
   ]
  },
  {
   "cell_type": "code",
   "execution_count": null,
   "metadata": {},
   "outputs": [],
   "source": [
    "calculate_specgram(lg_mode.refl_field,dz,zmin, zmax, omegas)"
   ]
  },
  {
   "cell_type": "code",
   "execution_count": null,
   "metadata": {},
   "outputs": [],
   "source": [
    "nrows = 2306\n",
    "ncols = 95\n",
    "Z = np.abs(spectrogram_result)\n",
    "print(Z.shape)\n",
    "x = np.arange(ncols + 1)\n",
    "y = np.arange(nrows + 1)\n",
    "\n",
    "\n",
    "plt.pcolormesh(x, y, Z,)"
   ]
  },
  {
   "cell_type": "code",
   "execution_count": null,
   "metadata": {},
   "outputs": [],
   "source": [
    "spectrogram_result.shape == Z.shape"
   ]
  },
  {
   "cell_type": "code",
   "execution_count": null,
   "metadata": {},
   "outputs": [],
   "source": [
    "y.shape"
   ]
  },
  {
   "cell_type": "code",
   "execution_count": null,
   "metadata": {},
   "outputs": [],
   "source": [
    "Z.shape"
   ]
  },
  {
   "cell_type": "code",
   "execution_count": null,
   "metadata": {},
   "outputs": [],
   "source": []
  }
 ],
 "metadata": {
  "kernelspec": {
   "display_name": "Python 3",
   "language": "python",
   "name": "python3"
  },
  "language_info": {
   "codemirror_mode": {
    "name": "ipython",
    "version": 3
   },
   "file_extension": ".py",
   "mimetype": "text/x-python",
   "name": "python",
   "nbconvert_exporter": "python",
   "pygments_lexer": "ipython3",
   "version": "3.7.3"
  }
 },
 "nbformat": 4,
 "nbformat_minor": 2
}
