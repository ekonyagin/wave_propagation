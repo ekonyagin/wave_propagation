{
 "cells": [
  {
   "cell_type": "code",
   "execution_count": 1,
   "metadata": {},
   "outputs": [],
   "source": [
    "from datetime import datetime\n",
    "import numpy as np\n",
    "import matplotlib.pyplot as plt\n",
    "from numba import jit, float64, complex128, int64, types, objmode\n",
    "\n",
    "from matplotlib.patches import Circle\n",
    "\n",
    "from ipywidgets import interact\n",
    "from collections import namedtuple as nt\n",
    "mode_params=nt(\"mode_params\", \"a0 m p Mp w0\")\n",
    "\n",
    "from scipy.special import hermite, genlaguerre\n",
    "\n",
    "%matplotlib inline"
   ]
  },
  {
   "cell_type": "code",
   "execution_count": 2,
   "metadata": {},
   "outputs": [],
   "source": [
    "@jit(types.Tuple((complex128[:,:,:], \n",
    "                  float64[:,:,:], \n",
    "                  int64, \n",
    "                  int64))\n",
    "     (int64, \n",
    "      int64, \n",
    "      float64, \n",
    "      float64, \n",
    "      float64, \n",
    "      float64, \n",
    "      float64[:,:,:], \n",
    "      float64[:,:,:], \n",
    "      float64[:,:,:]), cache=True, nopython=True, parallel=True)\n",
    "def LG_mode_accelerated(mode_params_m, \n",
    "                        mode_params_p, \n",
    "                        mode_params_Mp, \n",
    "                        mode_params_w0, \n",
    "                        mode_params_a0, tau, r, phi, z):\n",
    "    a0 = mode_params_a0\n",
    "    m = mode_params_m  # mode number x\n",
    "    p = mode_params_p  # mode number y\n",
    "    Mp = mode_params_Mp\n",
    "    w0 = mode_params_w0\n",
    "    \n",
    "    #Lpm=genlaguerre(p,np.abs(m))\n",
    "\n",
    "    ZR = Mp*w0**2/2\n",
    "    ZR_sq = np.square(ZR)\n",
    "    r_sq = np.square(r)\n",
    "    z_sq = np.square(z)\n",
    "    \n",
    "    w = w0*np.sqrt(1+z_sq/ZR_sq)\n",
    "    w_sq = np.square(w)\n",
    "    chi = np.arctan(z/ZR)\n",
    "    \n",
    "    \n",
    "    #toret = 1/np.sqrt(w)*(r*np.sqrt(2)/w)**np.abs(m)\n",
    "    toret = (r*np.sqrt(2)/w)**np.abs(m)\n",
    "\n",
    "    exp_factor = np.exp(-1j*r_sq*z/2/(ZR_sq+z_sq) + 1j*m*phi -z_sq/2/tau**2 + \\\n",
    "                        1j*Mp*z -1j*(2*p+np.abs(m)+1)*chi-r_sq/w_sq)\n",
    "    toret = toret * exp_factor\n",
    "    \n",
    "    return a0*toret, 2*r_sq/w_sq, p, m"
   ]
  },
  {
   "cell_type": "code",
   "execution_count": 3,
   "metadata": {},
   "outputs": [],
   "source": [
    "class LG_mode_generation():\n",
    "    \n",
    "    \"\"\"\n",
    "        This class features the suport of LG modes generation and reflected field analysis.\n",
    "        After fitting, the following results are stored in corresponding member variables:\n",
    "            self.zmirror - describes the motion of target\n",
    "            self.refl_field - interpolated field generated after LG_mode interaction with target\n",
    "            self.fft_result - FFT transform of the reflected field\n",
    "            self.fft_freq - set of corresponding frequencies in FFT\n",
    "    \"\"\"\n",
    "    \n",
    "    def __init__(self, params_dict):\n",
    "        \n",
    "        self.fitted = False\n",
    "        self.mode_params = []\n",
    "        self.mode_params.append(mode_params(*params_dict[\"mode_0\"])) ###mode_params\n",
    "        self.mode_params.append(mode_params(*params_dict[\"mode_1\"])) ###mode_params\n",
    "        self.coord_type = params_dict[\"coords\"][\"type\"]\n",
    "        \n",
    "        self.tau = params_dict[\"tau\"]\n",
    "        self.delay = params_dict[\"delay\"]\n",
    "        \n",
    "        if self.coord_type == \"cartesian\":\n",
    "            xmin = params_dict[\"coords\"][\"xmin\"]#-10\n",
    "            xmax = params_dict[\"coords\"][\"xmax\"]#10\n",
    "            ymin = params_dict[\"coords\"][\"ymin\"]#-10\n",
    "            ymax = params_dict[\"coords\"][\"ymax\"]#10\n",
    "            zmin = params_dict[\"coords\"][\"zmin\"]#-15\n",
    "            zmax = params_dict[\"coords\"][\"zmax\"]#15\n",
    "            \n",
    "            nofxs = params_dict[\"discretization\"][\"x\"]#60\n",
    "            nofys = params_dict[\"discretization\"][\"y\"]#60\n",
    "            nofzs = params_dict[\"discretization\"][\"z\"]#2400\n",
    "            \n",
    "            self.zmin, self.zmax = zmin, zmax\n",
    "            \n",
    "            xx = np.linspace(xmin*2*np.pi, xmax*2*np.pi, nofxs)\n",
    "            yy = np.linspace(ymin*2*np.pi, ymax*2*np.pi, nofys)\n",
    "            zz = np.linspace(zmin*2*np.pi, zmax*2*np.pi, nofzs)\n",
    "            self.d_sampling_rate = zz[1] - zz[0]\n",
    "            self.nofzs = nofzs\n",
    "            self.x,self.y,self.z = np.meshgrid(xx,yy,zz, indexing='xy')\n",
    "        elif (self.coord_type == \"polar\"):\n",
    "            zmin = params_dict[\"coords\"][\"zmin\"]#-15\n",
    "            zmax = params_dict[\"coords\"][\"zmax\"]#15\n",
    "            nofzs = params_dict[\"discretization\"][\"z\"]#2400\n",
    "            zz = np.linspace(zmin*2*np.pi, zmax*2*np.pi, nofzs)\n",
    "            self.d_sampling_rate = zz[1] - zz[0]\n",
    "            rhos = np.linspace(0, 7*2*np.pi, 20)\n",
    "            phis = np.linspace(0, 2*np.pi, 150)\n",
    "            \n",
    "            self.zmin, self.zmax = zmin, zmax\n",
    "            \n",
    "            self.r,self.phi,self.z = np.meshgrid(rhos,phis,zz, indexing='xy')\n",
    "        else:\n",
    "            raise ValueError(\"Unsupported coordinate type!\\\n",
    "            Supported values are [\\'cartesian\\', \\'polar\\']\")\n",
    "    @staticmethod\n",
    "    def calculate_spectrum(field, d_rate):\n",
    "        fft_res = np.fft.fft(field, axis=2)\n",
    "        fft_freq = np.fft.fftfreq(len(field[1,1,:]), d=d_rate)\n",
    "        return fft_res, fft_freq\n",
    "        \n",
    "    @staticmethod\n",
    "    def LG_mode(mode_params, tau, r, phi, z):\n",
    "        mode, arg, p,m = LG_mode_accelerated(mode_params.m, \n",
    "                                         mode_params.p, \n",
    "                                         mode_params.Mp, \n",
    "                                         mode_params.w0, \n",
    "                                         mode_params.a0, tau, r, phi, z)\n",
    "        Lpm = genlaguerre(p, np.abs(m))\n",
    "        mode = mode * Lpm(arg)\n",
    "        return mode\n",
    "    \n",
    "    @staticmethod\n",
    "    def get_interp_field(z, zd, refl_field):\n",
    "        refl_field_interp = np.zeros_like(refl_field)\n",
    "        for i in range(z.shape[0]):\n",
    "            for j in range(z.shape[1]):\n",
    "                refl_field_interp[i,j,:] = np.interp(z[i,j,:], zd[i,j,:], refl_field[i,j,:])\n",
    "        return refl_field_interp\n",
    "    \n",
    "    def coords_polar(self):\n",
    "        if self.coord_type ==\"polar\":\n",
    "            return self.r, self.phi\n",
    "        else:\n",
    "            r = np.sqrt(self.x**2+self.y**2)\n",
    "\n",
    "            xiy = self.x + 1j*self.y\n",
    "            phi = np.angle(xiy)\n",
    "            return r, phi\n",
    "        \n",
    "    def calculate_field(self):\n",
    "        r, phi = self.coords_polar()\n",
    "        start = datetime.now()\n",
    "        print(\"Calculating LG modes...\", end=\"\")\n",
    "        LG_mode_1 = self.LG_mode(self.mode_params[0], self.tau, r, phi, self.z-self.delay/2)\n",
    "        field_x = np.abs(LG_mode_1) * np.cos(np.angle(LG_mode_1))\n",
    "\n",
    "        LG_mode_2 = self.LG_mode(self.mode_params[1], self.tau, r, phi, self.z+self.delay/2)\n",
    "        field_x = field_x + np.abs(LG_mode_2) * np.cos(np.angle(LG_mode_2))\n",
    "        \n",
    "        print(\"OK!\")\n",
    "        \n",
    "        envelope1 = np.abs(LG_mode_1)\n",
    "        envelope2 = np.abs(LG_mode_2)\n",
    "        \n",
    "        print(\"Calculating reflected fields...\", end=\"\")\n",
    "        full_envelope = np.sqrt(envelope1**2 + \\\n",
    "                            envelope2**2 + 2*envelope1*envelope2*\\\n",
    "                            np.cos(np.angle(LG_mode_2)-np.angle(LG_mode_1)))\n",
    "\n",
    "        zmirror = 1./(1+full_envelope ** 2)*(envelope1*np.cos(np.angle(LG_mode_1))+\\\n",
    "                                                 envelope2*np.cos(np.angle(LG_mode_2)))**2\n",
    "\n",
    "        refl_field = envelope1 * np.cos(np.angle(self.LG_mode(self.mode_params[0], \n",
    "                                                              self.tau, r, phi, self.z-self.delay/2+zmirror)))\n",
    "        refl_field = refl_field + envelope2 * np.cos(np.angle(self.LG_mode(self.mode_params[1],\n",
    "                                                              self.tau, r, phi, self.z+self.delay/2+zmirror)))\n",
    "\n",
    "        zd = self.z-zmirror\n",
    "        \n",
    "        self.incident_field = field_x\n",
    "        self.zmirror = zmirror\n",
    "        self.full_envelope = full_envelope\n",
    "        self.refl_field = self.get_interp_field(self.z, zd, refl_field)\n",
    "        print(\"OK!\")\n",
    "        print(\"Calculating field spectrum...\", end=\"\")\n",
    "        self.fft_result, self.fft_freq = self.calculate_spectrum(self.refl_field, \n",
    "                                                                 self.d_sampling_rate)\n",
    "        self.fitted = True\n",
    "        print(f\"OK!\\nFinished training in {(datetime.now()-start).total_seconds()} seconds.\")\n",
    "        return True\n",
    "    def count_spectrogram(self, r=None, n_harmonics=3):\n",
    "        dz = self.d_sampling_rate/(2*np.pi)      # in wavelength\n",
    "\n",
    "        window_width = 2.0   # in wavelengths\n",
    "        dtau_window = 0.1    # in wavelengths\n",
    "        nofzs_window = (self.zmax - self.zmin)/dtau_window\n",
    "\n",
    "        omegas = np.fft.fftfreq(self.refl_field.shape[2], d=dz)\n",
    "\n",
    "        idx = np.argwhere(np.abs(np.abs(omegas)-n_harmonics)<1e-2)[0][0] #3rd harmonics idx\n",
    "\n",
    "        print(\"Counting spectrogram...\")\n",
    "        spectrogram = np.zeros((self.refl_field.shape[1],\n",
    "                                self.refl_field.shape[0], \n",
    "                                int(nofzs_window), \n",
    "                                1), \n",
    "                               dtype=np.complex128)\n",
    "        print(\"init spectrogram shape:\", spectrogram.shape)\n",
    "        if r != None:\n",
    "            print(f'r is {r}')\n",
    "            for phi in range(self.refl_field.shape[0]):\n",
    "                field = self.refl_field[phi,r,:]\n",
    "                #sp=np.fft.fft(field)\n",
    "                specgram_phi = None\n",
    "                flag = False\n",
    "                for n in np.arange(nofzs_window):\n",
    "                    window_pos = self.zmin+n * dtau_window\n",
    "                    window_func = np.exp(-((self.z[phi, r,:]/2/np.pi - window_pos)/window_width)**100)\n",
    "                    y = field * window_func\n",
    "                    sp = np.fft.fft(y)\n",
    "                    if flag == False:\n",
    "                        #specgram = sp\n",
    "                        specgram = sp[idx]\n",
    "                        flag = True\n",
    "                    else:\n",
    "                        specgram = np.vstack([specgram, sp[idx]])\n",
    "                        #specgram = np.vstack([specgram, sp])\n",
    "                \n",
    "                spectrogram[r, phi, :, :] = specgram\n",
    "            return spectrogram[r,:,:,:]\n",
    "        for r in range(self.refl_field.shape[1]):\n",
    "            print(f'r is {r}')\n",
    "            for phi in range(self.refl_field.shape[0]):\n",
    "                field = self.refl_field[phi,r,:]\n",
    "                #sp=np.fft.fft(field)\n",
    "                specgram_phi = None\n",
    "                flag = False\n",
    "                for n in np.arange(nofzs_window):\n",
    "                    window_pos = self.zmin+n * dtau_window\n",
    "                    window_func = np.exp(-((self.z[phi, r,:]/2/np.pi - window_pos)/window_width)**100)\n",
    "                    y = field * window_func\n",
    "                    sp = np.fft.fft(y)\n",
    "                    if flag == False:\n",
    "                        #specgram = sp\n",
    "                        specgram = sp[idx]\n",
    "                        flag = True\n",
    "                    else:\n",
    "                        specgram = np.vstack([specgram, sp[idx]])\n",
    "                        #specgram = np.vstack([specgram, sp])\n",
    "                \n",
    "                spectrogram[r, phi, :, :] = specgram\n",
    "                #specgram_global[r, phi] = specgram \n",
    "            #self.specgram = specgram_global\n",
    "\n",
    "        return spectrogram\n",
    "    def plot_incident_field(self, ):\n",
    "        pass\n",
    "    def calculate_radial_spectrum(self, rho):\n",
    "        r, phi = self.coords_polar()\n",
    "        try:\n",
    "            field_slice = self.incident_field[:,rho, :]\n",
    "        except:\n",
    "            print(f\"Invalid rho value ({rho})!\")\n",
    "            return\n",
    "        radial_spectrum = np.fft.fft(field_slice, axis=1)\n",
    "        frequencies = np.fft.fftfreq(self.nofzs, self.d_sampling_rate)\n",
    "        return radial_spectrum, frequencies"
   ]
  },
  {
   "cell_type": "code",
   "execution_count": 4,
   "metadata": {},
   "outputs": [],
   "source": [
    "params_dict = {\n",
    "    \"mode_0\" : [5., 1, 0, 1., 3.**2*np.pi],\n",
    "    \"mode_1\" : [5., 2, 0, 1., 3.**2*np.pi],\n",
    "    \"coords\" :\n",
    "        {\n",
    "            \"type\": \"cartesian\",\n",
    "            \"xmin\": -10,\n",
    "            \"xmax\": 10,\n",
    "            \"ymin\": -10,\n",
    "            \"ymax\": 10,\n",
    "            \"zmin\": -15,\n",
    "            \"zmax\": 15\n",
    "        },\n",
    "    \"tau\": 4*2*np.pi,\n",
    "    \"delay\": -2*4*2*np.pi,\n",
    "    \"discretization\": {\n",
    "                        \"x\": 60,\n",
    "                        \"y\": 60,\n",
    "                        \"z\": 2400\n",
    "    }\n",
    "               }"
   ]
  },
  {
   "cell_type": "code",
   "execution_count": 5,
   "metadata": {},
   "outputs": [],
   "source": [
    "params_dict = {\n",
    "    \"mode_0\" : [7., 0, 0, 1., 3.**2*np.pi],\n",
    "    \"mode_1\" : [0., 1, 0, 1., 3.**2*np.pi],\n",
    "    \"coords\" :\n",
    "        {\n",
    "            \"type\": \"polar\",\n",
    "            \"zmin\": -15,\n",
    "            \"zmax\": 15\n",
    "        },\n",
    "    \"tau\": 0.5*2*np.pi,\n",
    "    \"delay\": -2*2*np.pi,\n",
    "    \"discretization\": {\n",
    "            \n",
    "                        \"z\": 4800\n",
    "    }\n",
    "               }"
   ]
  },
  {
   "cell_type": "code",
   "execution_count": 6,
   "metadata": {},
   "outputs": [
    {
     "name": "stdout",
     "output_type": "stream",
     "text": [
      "Calculating LG modes...OK!\n",
      "Calculating reflected fields...OK!\n",
      "Calculating field spectrum...OK!\n",
      "Finished training in 7.687892 seconds.\n"
     ]
    },
    {
     "data": {
      "text/plain": [
       "True"
      ]
     },
     "execution_count": 6,
     "metadata": {},
     "output_type": "execute_result"
    }
   ],
   "source": [
    "lg_mode = LG_mode_generation(params_dict)\n",
    "lg_mode.calculate_field()"
   ]
  },
  {
   "cell_type": "code",
   "execution_count": 7,
   "metadata": {},
   "outputs": [
    {
     "data": {
      "text/plain": [
       "[<matplotlib.lines.Line2D at 0x128fdac18>]"
      ]
     },
     "execution_count": 7,
     "metadata": {},
     "output_type": "execute_result"
    },
    {
     "data": {
      "image/png": "[encoded data removed]",
      "text/plain": [
       "<Figure size 432x288 with 1 Axes>"
      ]
     },
     "metadata": {
      "needs_background": "light"
     },
     "output_type": "display_data"
    }
   ],
   "source": [
    "plt.plot(lg_mode.refl_field[0,2])"
   ]
  },
  {
   "cell_type": "code",
   "execution_count": 8,
   "metadata": {},
   "outputs": [
    {
     "data": {
      "text/plain": [
       "(-80, 80)"
      ]
     },
     "execution_count": 8,
     "metadata": {},
     "output_type": "execute_result"
    },
    {
     "data": {
      "image/png": "[encoded data removed]",
      "text/plain": [
       "<Figure size 432x288 with 1 Axes>"
      ]
     },
     "metadata": {
      "needs_background": "light"
     },
     "output_type": "display_data"
    }
   ],
   "source": [
    "freqs = 2*np.pi*lg_mode.fft_freq\n",
    "plt.semilogy(freqs,np.abs(lg_mode.fft_result[0,2]))\n",
    "plt.xlim((-80,80))"
   ]
  },
  {
   "cell_type": "code",
   "execution_count": 9,
   "metadata": {},
   "outputs": [],
   "source": [
    "cfreq, freq_width = (40, 10)\n",
    "cut_func1 = np.exp(-((freqs-cfreq)/freq_width)**10)\n",
    "cut_func2 = np.exp(-((freqs+cfreq)/freq_width)**10)\n",
    "cut_func_total = (cut_func1+ cut_func2)\n",
    "cut_func_total\n",
    "spectrum_filtered = cut_func_total *  lg_mode.fft_result[0,2]"
   ]
  },
  {
   "cell_type": "code",
   "execution_count": 10,
   "metadata": {},
   "outputs": [
    {
     "name": "stderr",
     "output_type": "stream",
     "text": [
      "/Users/egor/anaconda3/lib/python3.7/site-packages/numpy/core/_asarray.py:85: ComplexWarning: Casting complex values to real discards the imaginary part\n",
      "  return array(a, dtype, copy=False, order=order)\n"
     ]
    },
    {
     "data": {
      "text/plain": [
       "[<matplotlib.lines.Line2D at 0x10d8e47f0>]"
      ]
     },
     "execution_count": 10,
     "metadata": {},
     "output_type": "execute_result"
    },
    {
     "data": {
      "image/png": "[encoded data removed]",
      "text/plain": [
       "<Figure size 432x288 with 1 Axes>"
      ]
     },
     "metadata": {
      "needs_background": "light"
     },
     "output_type": "display_data"
    }
   ],
   "source": [
    "plt.plot(np.linspace(-15,15,4800), np.fft.ifft(spectrum_filtered))\n",
    "#plt.xlim(0,1)"
   ]
  },
  {
   "cell_type": "code",
   "execution_count": 11,
   "metadata": {},
   "outputs": [
    {
     "data": {
      "text/plain": [
       "[<matplotlib.lines.Line2D at 0x10d8262b0>]"
      ]
     },
     "execution_count": 11,
     "metadata": {},
     "output_type": "execute_result"
    },
    {
     "data": {
      "image/png": "[encoded data removed]",
      "text/plain": [
       "<Figure size 432x288 with 1 Axes>"
      ]
     },
     "metadata": {
      "needs_background": "light"
     },
     "output_type": "display_data"
    }
   ],
   "source": [
    "plt.plot(freqs,2500*cut_func2)\n",
    "plt.plot(freqs,2500*cut_func1)\n",
    "plt.plot(freqs,np.abs(lg_mode.fft_result[0,2]))"
   ]
  },
  {
   "cell_type": "code",
   "execution_count": 12,
   "metadata": {},
   "outputs": [
    {
     "data": {
      "text/plain": [
       "2.3561944901923444"
      ]
     },
     "execution_count": 12,
     "metadata": {},
     "output_type": "execute_result"
    }
   ],
   "source": [
    "2*np.pi*3*10**10/(0.8e-4)/1e15"
   ]
  },
  {
   "cell_type": "code",
   "execution_count": 13,
   "metadata": {},
   "outputs": [
    {
     "data": {
      "text/plain": [
       "(4800,)"
      ]
     },
     "execution_count": 13,
     "metadata": {},
     "output_type": "execute_result"
    }
   ],
   "source": [
    "inv = np.fft.ifft(lg_mode.fft_result[0,2])\n",
    "inv.shape"
   ]
  },
  {
   "cell_type": "code",
   "execution_count": 14,
   "metadata": {},
   "outputs": [
    {
     "name": "stderr",
     "output_type": "stream",
     "text": [
      "/Users/egor/anaconda3/lib/python3.7/site-packages/numpy/core/_asarray.py:85: ComplexWarning: Casting complex values to real discards the imaginary part\n",
      "  return array(a, dtype, copy=False, order=order)\n"
     ]
    },
    {
     "data": {
      "text/plain": [
       "(-3, 3)"
      ]
     },
     "execution_count": 14,
     "metadata": {},
     "output_type": "execute_result"
    },
    {
     "data": {
      "image/png": "[encoded data removed]",
      "text/plain": [
       "<Figure size 432x288 with 1 Axes>"
      ]
     },
     "metadata": {
      "needs_background": "light"
     },
     "output_type": "display_data"
    }
   ],
   "source": [
    "plt.plot(np.linspace(-15,15,4800),inv)\n",
    "plt.plot(np.linspace(-15,15,4800),lg_mode.refl_field[0,2])\n",
    "plt.xlim((-3,3))"
   ]
  },
  {
   "cell_type": "code",
   "execution_count": 15,
   "metadata": {},
   "outputs": [
    {
     "data": {
      "image/png": "[encoded data removed]",
      "text/plain": [
       "<Figure size 864x432 with 2 Axes>"
      ]
     },
     "metadata": {
      "needs_background": "light"
     },
     "output_type": "display_data"
    },
    {
     "data": {
      "image/png": "[encoded data removed]",
      "text/plain": [
       "<Figure size 864x432 with 2 Axes>"
      ]
     },
     "metadata": {
      "needs_background": "light"
     },
     "output_type": "display_data"
    }
   ],
   "source": [
    "plt.figure(figsize=(12,6))\n",
    "\n",
    "plt.imshow(lg_mode.refl_field[50],\n",
    "           aspect='auto', \n",
    "           cmap=plt.get_cmap('jet'))\n",
    "plt.colorbar()\n",
    "#plt.show()\n",
    "plt.savefig(\"angular_inp.png\")\n",
    "plt.figure(figsize=(12,6))\n",
    "\n",
    "plt.imshow(np.real(np.fft.ifft(np.fft.fft(lg_mode.refl_field[50],\n",
    "                                          axis=1)*cut_func_total)), \n",
    "           aspect='auto',\n",
    "           cmap=plt.get_cmap('jet'))\n",
    "#plt.show()\n",
    "plt.colorbar()\n",
    "plt.savefig(\"angular_res.png\")"
   ]
  },
  {
   "cell_type": "code",
   "execution_count": 16,
   "metadata": {},
   "outputs": [],
   "source": [
    "x = lg_mode.r*np.cos(lg_mode.phi)\n",
    "y = lg_mode.r*np.sin(lg_mode.phi)"
   ]
  },
  {
   "cell_type": "code",
   "execution_count": 17,
   "metadata": {},
   "outputs": [],
   "source": [
    "from scipy.interpolate import interpn, interp2d, RegularGridInterpolator"
   ]
  },
  {
   "cell_type": "code",
   "execution_count": 18,
   "metadata": {},
   "outputs": [
    {
     "data": {
      "text/plain": [
       "array([ 0.        ,  2.31485774,  4.62971549,  6.94457323,  9.25943098,\n",
       "       11.57428872, 13.88914647, 16.20400421, 18.51886196, 20.8337197 ,\n",
       "       23.14857745, 25.46343519, 27.77829294, 30.09315068, 32.40800843,\n",
       "       34.72286617, 37.03772392, 39.35258166, 41.66743941, 43.98229715])"
      ]
     },
     "execution_count": 18,
     "metadata": {},
     "output_type": "execute_result"
    }
   ],
   "source": [
    "lg_mode.r[0,:,0]"
   ]
  },
  {
   "cell_type": "code",
   "execution_count": 34,
   "metadata": {},
   "outputs": [
    {
     "data": {
      "text/plain": [
       "array([ 0.        , -0.06338151, -0.12625784, -0.18814755, -0.248614  ,\n",
       "       -0.30728144, -0.3638451 , -0.418075  , -0.46981418, -0.51897278,\n",
       "       -0.56551939, -0.60947097, -0.65088274, -0.68983856, -0.72644252,\n",
       "       -0.76081179, -0.79307083, -0.82334696, -0.85176689, -0.87845435,\n",
       "       -0.90352834, -0.92710205, -0.94928224, -0.97016894, -0.98985537,\n",
       "       -1.00842808, -1.02596719, -1.04254672, -1.0582349 , -1.0730946 ,\n",
       "       -1.08718369, -1.10055541, -1.11325877, -1.12533883, -1.1368371 ,\n",
       "       -1.14779179, -1.15823809, -1.16820847, -1.17773288, -1.18683896,\n",
       "       -1.19555226, -1.20389643, -1.21189333, -1.21956326, -1.226925  ,\n",
       "       -1.23399601, -1.24079252, -1.24732962, -1.25362135, -1.25968079,\n",
       "       -1.26552016, -1.27115086, -1.27658354, -1.28182815, -1.28689403,\n",
       "       -1.29178991, -1.29652397, -1.30110392, -1.30553698, -1.30982993,\n",
       "       -1.31398915, -1.31802068, -1.32193017, -1.32572296, -1.32940411,\n",
       "       -1.33297836, -1.33645024, -1.33982399, -1.34310363, -1.34629299,\n",
       "       -1.34939569, -1.35241514, -1.3553546 , -1.35821717, -1.36100576,\n",
       "       -1.36372318, -1.36637207, -1.36895496, -1.37147425, -1.37393223,\n",
       "       -1.37633109, -1.3786729 , -1.38095965, -1.38319324, -1.38537547,\n",
       "       -1.38750809, -1.38959273, -1.391631  , -1.39362439, -1.39557437,\n",
       "       -1.39748232, -1.39934956, -1.40117739, -1.40296701, -1.40471961,\n",
       "       -1.40643631, -1.40811819, -1.4097663 , -1.41138163, -1.41296514])"
      ]
     },
     "execution_count": 34,
     "metadata": {},
     "output_type": "execute_result"
    }
   ],
   "source": [
    "np.arctan(np.linspace(0,-2*np.pi,100))"
   ]
  },
  {
   "cell_type": "code",
   "execution_count": 26,
   "metadata": {},
   "outputs": [],
   "source": [
    "field = lg_mode.refl_field\n",
    "@jit(cache=True, nopython=True)\n",
    "def get_field(x,y,z, field):\n",
    "    drho = 2.3148577447503738\n",
    "    dphi = 0.04216902890724555\n",
    "    rho = np.sqrt(x**2 + y**2)\n",
    "    phi = np.arctan(y/(x+0.005))\n",
    "    rho = int(rho//drho)\n",
    "    phi = int(phi//dphi)\n",
    "    #z = int(z//dz)\n",
    "    print(rho, phi, z)\n",
    "    if rho < 20:\n",
    "        #if field[phi, rho, z] > 0:\n",
    "        #    print(field[phi, rho, z])\n",
    "        return field[phi, rho, z]\n",
    "    else:\n",
    "        return 0.0"
   ]
  },
  {
   "cell_type": "code",
   "execution_count": 27,
   "metadata": {},
   "outputs": [],
   "source": [
    "@jit(cache=True, nopython=True, parallel=True)\n",
    "def get_field_cartesian():\n",
    "    field = np.zeros((10,10,1), dtype=np.float64)\n",
    "    x = np.linspace(-7.*2*np.pi, 7.*2*np.pi, 10)\n",
    "    y = x.copy()\n",
    "    for i in range(len(x)):\n",
    "        for j in range(len(y)):\n",
    "            for k in range(1):\n",
    "                field[i,j,k] = get_field(x[i],y[j],k, field)\n",
    "    return field"
   ]
  },
  {
   "cell_type": "code",
   "execution_count": 28,
   "metadata": {},
   "outputs": [
    {
     "name": "stdout",
     "output_type": "stream",
     "text": [
      "26 18 0\n",
      "24 15 0\n",
      "21 12 0\n",
      "20 7 0\n",
      "19 2 0\n",
      "19 -3 0\n",
      "20 -8 0\n",
      "21 -13 0\n",
      "24 -16 0\n",
      "26 -19 0\n",
      "24 21 0\n",
      "20 18 0\n",
      "18 14 0\n",
      "16 9 0\n",
      "14 3 0\n",
      "14 -4 0\n",
      "16 -10 0\n",
      "18 -15 0\n",
      "20 -19 0\n",
      "24 -22 0\n",
      "21 25 0\n",
      "18 22 0\n",
      "14 18 0\n",
      "12 12 0\n",
      "10 4 0\n",
      "10 -5 0\n",
      "12 -13 0\n",
      "14 -19 0\n",
      "18 -23 0\n",
      "21 -26 0\n",
      "20 29 0\n",
      "16 27 0\n",
      "12 24 0\n",
      "8 18 0\n",
      "6 7 0\n",
      "6 -8 0\n",
      "8 -19 0\n",
      "12 -25 0\n",
      "16 -28 0\n",
      "20 -30 0\n",
      "19 34 0\n",
      "14 33 0\n",
      "10 32 0\n",
      "6 29 0\n",
      "2 18 0\n",
      "2 -19 0\n",
      "6 -30 0\n",
      "10 -33 0\n",
      "14 -34 0\n",
      "19 -35 0\n",
      "19 -35 0\n",
      "14 -34 0\n",
      "10 -33 0\n",
      "6 -30 0\n",
      "2 -19 0\n",
      "2 18 0\n",
      "6 29 0\n",
      "10 32 0\n",
      "14 33 0\n",
      "19 34 0\n",
      "20 -30 0\n",
      "16 -28 0\n",
      "12 -25 0\n",
      "8 -19 0\n",
      "6 -8 0\n",
      "6 7 0\n",
      "8 18 0\n",
      "12 24 0\n",
      "16 27 0\n",
      "20 29 0\n",
      "21 -26 0\n",
      "18 -23 0\n",
      "14 -19 0\n",
      "12 -13 0\n",
      "10 -5 0\n",
      "10 4 0\n",
      "12 12 0\n",
      "14 18 0\n",
      "18 22 0\n",
      "21 25 0\n",
      "24 -22 0\n",
      "20 -19 0\n",
      "18 -15 0\n",
      "16 -10 0\n",
      "14 -4 0\n",
      "14 3 0\n",
      "16 9 0\n",
      "18 14 0\n",
      "20 18 0\n",
      "24 21 0\n",
      "26 -19 0\n",
      "24 -16 0\n",
      "21 -13 0\n",
      "20 -8 0\n",
      "19 -3 0\n",
      "19 2 0\n",
      "20 7 0\n",
      "21 12 0\n",
      "24 15 0\n",
      "26 18 0\n"
     ]
    }
   ],
   "source": [
    "field_cartesian = get_field_cartesian()"
   ]
  },
  {
   "cell_type": "code",
   "execution_count": null,
   "metadata": {},
   "outputs": [],
   "source": []
  },
  {
   "cell_type": "code",
   "execution_count": null,
   "metadata": {},
   "outputs": [],
   "source": [
    "from pyevtk.hl import pointsToVTK\n",
    "from pyevtk.hl import gridToVTK\n",
    "\n",
    "#gridToVTK(\"./test_potential\", x/np.amax(x), y/np.amax(y), z/np.amax(z), pointData = {\"field_x\" : field_x})\n",
    "\n",
    "filename='./test_field'\n",
    "gridToVTK(filename, x/np.amax(x), y/np.amax(y), z/np.amax(z), pointData = {\"field_x\" : field_x})"
   ]
  },
  {
   "cell_type": "code",
   "execution_count": null,
   "metadata": {},
   "outputs": [],
   "source": [
    "import pyevtk\n",
    "x = np.linspace(-10,9, 4800)\n",
    "y = np.linspace(0, 2*np.pi, 4800)\n",
    "z = np.linspace(-15,15, 4800)"
   ]
  },
  {
   "cell_type": "code",
   "execution_count": null,
   "metadata": {},
   "outputs": [],
   "source": []
  },
  {
   "cell_type": "code",
   "execution_count": null,
   "metadata": {},
   "outputs": [],
   "source": []
  },
  {
   "cell_type": "code",
   "execution_count": null,
   "metadata": {},
   "outputs": [],
   "source": [
    "plt.figure(figsize=(12,6))\n",
    "plt.imshow(np.real(np.fft.ifft(np.fft.fft(lg_mode.refl_field[50],axis=1)*cut_func_total)), aspect='auto')\n",
    "plt.show()"
   ]
  },
  {
   "cell_type": "code",
   "execution_count": null,
   "metadata": {},
   "outputs": [],
   "source": [
    "fourier_res = np.fft.rfft(lg_mode.refl_field, axis=2)\n",
    "freq = np.fft.rfftfreq(2400, lg_mode.d_sampling_rate)"
   ]
  },
  {
   "cell_type": "code",
   "execution_count": null,
   "metadata": {},
   "outputs": [],
   "source": [
    "filtered = np.fft.irfft(fourier_res*mask, axis=2)"
   ]
  },
  {
   "cell_type": "code",
   "execution_count": null,
   "metadata": {},
   "outputs": [],
   "source": [
    "plt.plot(filtered[21,5][:200])\n",
    "plt.show()\n",
    "plt.plot(lg_mode.refl_field[21,5][:200])\n",
    "plt.show()"
   ]
  },
  {
   "cell_type": "code",
   "execution_count": null,
   "metadata": {},
   "outputs": [],
   "source": [
    "plt.plot(lg_mode.refl_field[21,5][:200])"
   ]
  },
  {
   "cell_type": "code",
   "execution_count": null,
   "metadata": {},
   "outputs": [],
   "source": [
    "@interact(n=(0,2399,5))\n",
    "def Plotter(n=0):\n",
    "    fig = plt.figure(figsize=(16,8))\n",
    "    ax = fig.add_subplot(121, projection='polar')\n",
    "    ax.set_title(f\"Original field\")\n",
    "    ax.pcolormesh(phi,r,np.transpose(lg_mode.refl_field, [1,0,2])[:,:,n])\n",
    "\n",
    "    ax = fig.add_subplot(122, projection='polar')\n",
    "    ax.set_title(f\"Filtered field\")\n",
    "    #ax.gca(projection=\"polar\")\n",
    "    ax.pcolormesh(phi,r,np.transpose(filtered, [1,0,2])[:,:,n])"
   ]
  },
  {
   "cell_type": "code",
   "execution_count": null,
   "metadata": {},
   "outputs": [],
   "source": [
    "r = np.linspace(0,19,20)\n",
    "phi = np.linspace(0,2*np.pi,150)\n",
    "rhos, phis = np.meshgrid(r,phi)\n",
    "@interact(n=(0,2399,5))\n",
    "def Plotter(n=0):\n",
    "    plt.figure(figsize=(7,7))\n",
    "    plt.gca(projection=\"polar\")\n",
    "    plt.pcolormesh(phi,r,np.transpose(filtered, [1,0,2])[:,:,n])\n",
    "    #plt.savefig(\"field_%.4d.png\"%n)"
   ]
  },
  {
   "cell_type": "code",
   "execution_count": null,
   "metadata": {},
   "outputs": [],
   "source": [
    "lg_mode.fft_freq[:20]"
   ]
  },
  {
   "cell_type": "code",
   "execution_count": null,
   "metadata": {},
   "outputs": [],
   "source": [
    "@interact(n=(0,2399,5))\n",
    "def Plotter(n=0):\n",
    "    plt.figure(figsize=(7,7))\n",
    "    plt.gca(projection=\"polar\")\n",
    "    plt.pcolormesh(phi,r,np.transpose(lg_mode.refl_field, [1,0,2])[:,:,n])\n",
    "    #plt.savefig(\"field_%.4d.png\"%n)"
   ]
  },
  {
   "cell_type": "code",
   "execution_count": null,
   "metadata": {},
   "outputs": [],
   "source": [
    "sp_ = lg_mode.count_spectrogram(r=9)"
   ]
  },
  {
   "cell_type": "code",
   "execution_count": null,
   "metadata": {},
   "outputs": [],
   "source": [
    "sp_.shape"
   ]
  },
  {
   "cell_type": "code",
   "execution_count": null,
   "metadata": {},
   "outputs": [],
   "source": [
    "plt.figure(figsize=(10,10))\n",
    "\n",
    "plt.imshow(np.angle(sp_[:,:,0]), aspect='auto')\n",
    "plt.xlabel(\"Temporal axis\", fontsize=30)\n",
    "plt.ylabel(\"Spatial angle\", fontsize=30)\n",
    "plt.savefig(\"self_torque.png\")"
   ]
  },
  {
   "cell_type": "code",
   "execution_count": null,
   "metadata": {},
   "outputs": [],
   "source": [
    "#lg_mode.refl_field.shape"
   ]
  },
  {
   "cell_type": "code",
   "execution_count": null,
   "metadata": {},
   "outputs": [],
   "source": [
    "#lg_mode.z[0,0,:]/2/np.pi"
   ]
  },
  {
   "cell_type": "code",
   "execution_count": null,
   "metadata": {},
   "outputs": [],
   "source": [
    "#spectrogram = lg_mode.count_spectrogram(r=10, n_harmonics=3)"
   ]
  },
  {
   "cell_type": "code",
   "execution_count": null,
   "metadata": {},
   "outputs": [],
   "source": [
    "np.save(\"spectrogram_3rd_harmonics.npy\", spectrogram)"
   ]
  },
  {
   "cell_type": "code",
   "execution_count": null,
   "metadata": {},
   "outputs": [],
   "source": [
    "spectrogram = np.load(\"spectrogram_3rd_harmonics.npy\")\n",
    "print(spectrogram.shape)\n",
    "spectrogram = spectrogram[:,:,:,0]"
   ]
  },
  {
   "cell_type": "code",
   "execution_count": null,
   "metadata": {},
   "outputs": [],
   "source": [
    "#spectrogram.shape"
   ]
  },
  {
   "cell_type": "code",
   "execution_count": null,
   "metadata": {},
   "outputs": [],
   "source": [
    "#spectrogram.reshape(-1,300)"
   ]
  },
  {
   "cell_type": "code",
   "execution_count": null,
   "metadata": {},
   "outputs": [],
   "source": [
    "r = np.linspace(0,19,20)\n",
    "phi = np.linspace(0,2*np.pi,150)\n",
    "rhos, phis = np.meshgrid(r,phi)"
   ]
  },
  {
   "cell_type": "code",
   "execution_count": null,
   "metadata": {},
   "outputs": [],
   "source": [
    "spectrogram.shape"
   ]
  },
  {
   "cell_type": "code",
   "execution_count": null,
   "metadata": {},
   "outputs": [],
   "source": [
    "from ipywidgets import interact\n",
    "@interact(n=(0,299))\n",
    "def Plotter(n=0):\n",
    "    plt.figure(figsize=(4,4))\n",
    "    plt.gca(projection=\"polar\")\n",
    "    plt.pcolormesh(phi,r,np.abs(spectrogram[:,:,n]))"
   ]
  },
  {
   "cell_type": "code",
   "execution_count": null,
   "metadata": {},
   "outputs": [],
   "source": [
    "lg_mode.refl_field.shape"
   ]
  },
  {
   "cell_type": "code",
   "execution_count": null,
   "metadata": {},
   "outputs": [],
   "source": [
    "spectrogram.shape"
   ]
  },
  {
   "cell_type": "code",
   "execution_count": null,
   "metadata": {},
   "outputs": [],
   "source": [
    "np.transpose(lg_mode.refl_field, [1,0,2]).shape"
   ]
  },
  {
   "cell_type": "code",
   "execution_count": null,
   "metadata": {},
   "outputs": [],
   "source": [
    "refl_field = np.transpose(lg_mode.refl_field,[1,0,2])"
   ]
  },
  {
   "cell_type": "code",
   "execution_count": null,
   "metadata": {},
   "outputs": [],
   "source": [
    "from mpl_toolkits.mplot3d import Axes3D\n",
    "@interact(n=(0,2400,5))\n",
    "def Plotter(n=0):\n",
    "    fig = plt.figure(figsize=(16,8))\n",
    "    ax = fig.add_subplot(121, projection='3d')\n",
    "    ax.set_title(f\"3d visualization of spectrogram, slice no. is {n}\\n\\n\\n\")\n",
    "    rhos, phis = np.meshgrid(r,phi)\n",
    "    X, Y = rhos * np.cos(phis), rhos * np.sin(phis)\n",
    "    ax.plot_surface(X, Y, refl_field[:,:,n].T, cmap=plt.cm.YlGnBu_r)\n",
    "    ax.set_xlim(-20,20)\n",
    "    ax.set_ylim(-20,20)\n",
    "    ax.set_zlim(-1,1)\n",
    "    ax = fig.add_subplot(122, projection='polar')\n",
    "    ax.set_title(f\"2d visualization of spectrogram, slice no. is {n}\")\n",
    "    #ax.gca(projection=\"polar\")\n",
    "    ax.pcolormesh(phi,r,refl_field[:,:,n])\n",
    "    plt.savefig(\"slice.png\")"
   ]
  },
  {
   "cell_type": "code",
   "execution_count": null,
   "metadata": {},
   "outputs": [],
   "source": [
    "from mpl_toolkits.mplot3d import Axes3D\n",
    "@interact(n=(0,2400,5))\n",
    "def Plotter(n=0):\n",
    "    fig = plt.figure(figsize=(16,8))\n",
    "    ax = fig.add_subplot(121, projection='polar')\n",
    "    ax.set_title(f\"2d visualization of spectrogram, slice no. is {n}\")\n",
    "    rhos, phis = np.meshgrid(r,phi)\n",
    "    X, Y = rhos * np.cos(phis), rhos * np.sin(phis)\n",
    "    ax.pcolormesh(phi,r,refl_field[:,:,n])\n",
    "    #ax.set_xlim(-20,20)\n",
    "    #ax.set_ylim(-20,20)\n",
    "    #ax.set_zlim(-1,1)\n",
    "    ax = fig.add_subplot(122, projection='polar')\n",
    "    ax.set_title(f\"2d visualization of spectrogram, slice no. is {n+250}\")\n",
    "    #ax.gca(projection=\"polar\")\n",
    "    ax.pcolormesh(phi,r,refl_field[:,:,n+250])\n",
    "    plt.savefig(\"slice.png\")"
   ]
  },
  {
   "cell_type": "code",
   "execution_count": null,
   "metadata": {},
   "outputs": [],
   "source": [
    "lg_mode.refl_field.shape"
   ]
  },
  {
   "cell_type": "code",
   "execution_count": null,
   "metadata": {},
   "outputs": [],
   "source": []
  },
  {
   "cell_type": "code",
   "execution_count": null,
   "metadata": {},
   "outputs": [],
   "source": [
    "filt = np.fft.fft(lg_mode.refl_field, axis=2)\n",
    "freq = np.fft.fftfreq(len(lg_mode.refl_field[1,1,:]), d=lg_mode.d_sampling_rate)"
   ]
  },
  {
   "cell_type": "code",
   "execution_count": null,
   "metadata": {},
   "outputs": [],
   "source": [
    "rhoind=9\n",
    "plt.semilogy(freq*2*np.pi, np.abs(filt[10,rhoind,:]))\n",
    "plt.xlim(0,42)\n",
    "\n",
    "print(rhos[9]/2/np.pi)"
   ]
  },
  {
   "cell_type": "code",
   "execution_count": null,
   "metadata": {},
   "outputs": [],
   "source": [
    "@interact(n=(0,19,1))\n",
    "def Plotter(n=0):\n",
    "    plt.imshow(np.angle(filt[:,n,:]), aspect='auto')"
   ]
  },
  {
   "cell_type": "markdown",
   "metadata": {},
   "source": [
    "# Mirror motion\n",
    "\n",
    "TO-DO:\n",
    " - 3d scape"
   ]
  },
  {
   "cell_type": "code",
   "execution_count": null,
   "metadata": {},
   "outputs": [],
   "source": [
    "@interact(n=(0,2399,5))\n",
    "def Plotter(n=0):\n",
    "    plt.figure(figsize=(4,4))\n",
    "    plt.gca(projection=\"polar\")\n",
    "    plt.pcolormesh(phis,rhos,lg_mode.zmirror[:,:,n])"
   ]
  },
  {
   "cell_type": "code",
   "execution_count": null,
   "metadata": {},
   "outputs": [],
   "source": [
    "dz = lg_mode.d_sampling_rate/(2*np.pi)      # in wavelength\n",
    "\n",
    "window_width = 2.0   # in wavelengths\n",
    "dtau_window = 0.1    # in wavelengths\n",
    "nofzs_window = (zmax - zmin)/dtau_window\n",
    "\n",
    "\n",
    "omegas = np.fft.fftfreq(lg_mode.refl_field.shape[2], d=dz)\n",
    "\n",
    "idx = np.argwhere(np.abs(np.abs(omegas)-3)<1e-2)[0][0] #3rd harmonics idx\n",
    "\n",
    "for r in range(lg_mode.refl_field.shape[0]):\n",
    "    print(r)\n",
    "    for phi in range(lg_mode.refl_field.shape[1]):\n",
    "        field = lg_mode.refl_field[r,phi,:]\n",
    "        sp=np.fft.fft(field)\n",
    "        specgram_global = np.zeros((lg_mode.refl_field.shape[0],\n",
    "                                    lg_mode.refl_field.shape[0] , 300,1), dtype=np.complex128)\n",
    "        flag = False\n",
    "        for n in np.arange(nofzs_window):\n",
    "            window_pos = zmin+n * dtau_window\n",
    "            window_func = np.exp(-(z/2/np.pi - window_pos)**100/window_width**100)\n",
    "            y = field * window_func\n",
    "            sp = np.fft.fft(y)\n",
    "\n",
    "            # index 3rd harmonic\n",
    "            # for example sp[10] corresponds to 3rd harmonic\n",
    "            # r,phi, angle(sp[10])\n",
    "\n",
    "            if flag == False:\n",
    "                specgram = sp[idx]\n",
    "                flag = True\n",
    "            else:\n",
    "                specgram = np.vstack([specgram, sp[idx]])\n",
    "        #print(specgram.shape)\n",
    "        specgram_global[r, phi] = specgram "
   ]
  },
  {
   "cell_type": "code",
   "execution_count": null,
   "metadata": {},
   "outputs": [],
   "source": [
    "window_pos = zmin + 0* dtau_window\n",
    "window_func = np.exp(-((z/2/np.pi - window_pos)/window_width)**100)"
   ]
  },
  {
   "cell_type": "code",
   "execution_count": null,
   "metadata": {},
   "outputs": [],
   "source": [
    "new_field = lg_mode.refl_field.reshape(-1)"
   ]
  },
  {
   "cell_type": "code",
   "execution_count": null,
   "metadata": {},
   "outputs": [],
   "source": [
    "np.savetxt(\"field.txt\", lg_mode.refl_field.reshape(-1))"
   ]
  },
  {
   "cell_type": "code",
   "execution_count": null,
   "metadata": {},
   "outputs": [],
   "source": [
    "import ctypes"
   ]
  },
  {
   "cell_type": "code",
   "execution_count": null,
   "metadata": {},
   "outputs": [],
   "source": [
    "libc = ctypes.CDLL(\"./libfilter.so\")\n",
    "\n",
    "#libc.apply_filter.restype = ctypes.c_double # define mean function return type"
   ]
  },
  {
   "cell_type": "code",
   "execution_count": null,
   "metadata": {},
   "outputs": [],
   "source": [
    "libc.mean"
   ]
  },
  {
   "cell_type": "code",
   "execution_count": null,
   "metadata": {},
   "outputs": [],
   "source": [
    "omegas = np.fft.fftfreq(lg_mode.refl_field.shape[2], d = dz)\n",
    "@jit((complex128[:,:,:,:](float64[:,:,:],float64, float64, float64, float64[:])), cache=True, parallel=True)\n",
    "def calculate_specgram(refl_field, dz, zmin, zmax, omegas):\n",
    "    #dz = lg_mode.d_sampling_rate/(2*np.pi)      # in wavelength\n",
    "\n",
    "    window_width = 2.0   # in wavelengths\n",
    "    dtau_window = 0.1    # in wavelengths\n",
    "    nofzs_window = (zmax - zmin)/dtau_window\n",
    "\n",
    "    flag = False\n",
    "\n",
    "    \n",
    "    idx = np.argwhere(np.abs(np.abs(omegas)-3)<1e-2)[0][0] #3rd harmonics idx\n",
    "    for r in range(refl_field.shape[0]):\n",
    "        print(r)\n",
    "        for phi in range(refl_field.shape[1]):\n",
    "            field = refl_field[r,phi,:]\n",
    "            sp=np.fft.fft(field)\n",
    "            for n in np.arange(nofzs_window):\n",
    "                window_pos = zmin+n * dtau_window\n",
    "                window_func = np.exp(-(z/2/np.pi - window_pos)**100/window_width**100)\n",
    "                y = field * window_func\n",
    "                with objmode(out='complex128[:,:]'):\n",
    "                    sp = np.fft.fft(y)\n",
    "\n",
    "                # index 3rd harmonic\n",
    "                # for example sp[10] corresponds to 3rd harmonic\n",
    "                # r,phi, angle(sp[10])\n",
    "\n",
    "                if flag == False:\n",
    "                    specgram = sp[idx]\n",
    "                    flag = True\n",
    "                else:\n",
    "                    specgram = np.vstack([specgram, sp[idx]])"
   ]
  },
  {
   "cell_type": "code",
   "execution_count": null,
   "metadata": {},
   "outputs": [],
   "source": [
    "calculate_specgram(lg_mode.refl_field,dz,zmin, zmax, omegas)"
   ]
  },
  {
   "cell_type": "code",
   "execution_count": null,
   "metadata": {},
   "outputs": [],
   "source": [
    "nrows = 2306\n",
    "ncols = 95\n",
    "Z = np.abs(spectrogram_result)\n",
    "print(Z.shape)\n",
    "x = np.arange(ncols + 1)\n",
    "y = np.arange(nrows + 1)\n",
    "\n",
    "\n",
    "plt.pcolormesh(x, y, Z,)"
   ]
  },
  {
   "cell_type": "code",
   "execution_count": null,
   "metadata": {},
   "outputs": [],
   "source": [
    "spectrogram_result.shape == Z.shape"
   ]
  },
  {
   "cell_type": "code",
   "execution_count": null,
   "metadata": {},
   "outputs": [],
   "source": [
    "y.shape"
   ]
  },
  {
   "cell_type": "code",
   "execution_count": null,
   "metadata": {},
   "outputs": [],
   "source": [
    "Z.shape"
   ]
  },
  {
   "cell_type": "code",
   "execution_count": null,
   "metadata": {},
   "outputs": [],
   "source": [
    "import example"
   ]
  },
  {
   "cell_type": "code",
   "execution_count": null,
   "metadata": {},
   "outputs": [],
   "source": [
    "%%timeit\n",
    "b = example.multiply(np.linspace(-15,15,2400),1)"
   ]
  },
  {
   "cell_type": "code",
   "execution_count": null,
   "metadata": {},
   "outputs": [],
   "source": [
    "z = np.linspace(-15,15,2400)\n",
    "window_pos=-15.\n",
    "window_width = 2.0\n"
   ]
  },
  {
   "cell_type": "code",
   "execution_count": null,
   "metadata": {},
   "outputs": [],
   "source": [
    "%%timeit\n",
    "window_func = np.exp(-(z/2/np.pi - window_pos)**100/window_width**100)"
   ]
  },
  {
   "cell_type": "code",
   "execution_count": null,
   "metadata": {},
   "outputs": [],
   "source": []
  },
  {
   "cell_type": "code",
   "execution_count": null,
   "metadata": {},
   "outputs": [],
   "source": []
  }
 ],
 "metadata": {
  "kernelspec": {
   "display_name": "Python 3",
   "language": "python",
   "name": "python3"
  },
  "language_info": {
   "codemirror_mode": {
    "name": "ipython",
    "version": 3
   },
   "file_extension": ".py",
   "mimetype": "text/x-python",
   "name": "python",
   "nbconvert_exporter": "python",
   "pygments_lexer": "ipython3",
   "version": "3.7.3"
  }
 },
 "nbformat": 4,
 "nbformat_minor": 2
}
