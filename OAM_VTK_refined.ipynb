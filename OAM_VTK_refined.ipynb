{
 "cells": [
  {
   "cell_type": "code",
   "execution_count": 1,
   "metadata": {},
   "outputs": [],
   "source": [
    "from datetime import datetime\n",
    "import numpy as np\n",
    "import matplotlib.pyplot as plt\n",
    "from numba import jit, float64, complex128, int64, types\n",
    "\n",
    "from matplotlib.patches import Circle\n",
    "\n",
    "\n",
    "from collections import namedtuple as nt\n",
    "mode_params=nt(\"mode_params\", \"a0 m p Mp w0\")\n",
    "\n",
    "from scipy.special import hermite, genlaguerre\n",
    "\n",
    "%matplotlib inline"
   ]
  },
  {
   "cell_type": "code",
   "execution_count": 2,
   "metadata": {},
   "outputs": [],
   "source": [
    "@jit(types.Tuple((complex128[:,:,:], \n",
    "                  float64[:,:,:], \n",
    "                  int64, \n",
    "                  int64))\n",
    "     (int64, \n",
    "      int64, \n",
    "      float64, \n",
    "      float64, \n",
    "      float64, \n",
    "      float64, \n",
    "      float64[:,:,:], \n",
    "      float64[:,:,:], \n",
    "      float64[:,:,:]), cache=True, nopython=True, parallel=True)\n",
    "def LG_mode_accelerated(mode_params_m, \n",
    "                        mode_params_p, \n",
    "                        mode_params_Mp, \n",
    "                        mode_params_w0, \n",
    "                        mode_params_a0, tau, r, phi, z):\n",
    "    a0 = mode_params_a0\n",
    "    m = mode_params_m  # mode number x\n",
    "    p = mode_params_p  # mode number y\n",
    "    Mp = mode_params_Mp\n",
    "    w0 = mode_params_w0\n",
    "    \n",
    "    #Lpm=genlaguerre(p,np.abs(m))\n",
    "\n",
    "    ZR = Mp*w0**2/2\n",
    "    ZR_sq = np.square(ZR)\n",
    "    r_sq = np.square(r)\n",
    "    z_sq = np.square(z)\n",
    "    \n",
    "    w = w0*np.sqrt(1+z_sq/ZR_sq)\n",
    "    w_sq = np.square(w)\n",
    "    chi = np.arctan(z/ZR)\n",
    "    \n",
    "    \n",
    "    #toret = 1/np.sqrt(w)*(r*np.sqrt(2)/w)**np.abs(m)\n",
    "    toret = (r*np.sqrt(2)/w)**np.abs(m)\n",
    "\n",
    "    exp_factor = np.exp(-1j*r_sq*z/2/(ZR_sq+z_sq) + 1j*m*phi -z_sq/2/tau**2 + \\\n",
    "                        1j*Mp*z -1j*(2*p+np.abs(m)+1)*chi-r_sq/w_sq)\n",
    "    toret = toret * exp_factor\n",
    "    \n",
    "    return a0*toret, 2*r_sq/w_sq, p, m"
   ]
  },
  {
   "cell_type": "code",
   "execution_count": 82,
   "metadata": {},
   "outputs": [],
   "source": [
    "class LG_mode_generation():\n",
    "    \n",
    "    \"\"\"\n",
    "        This class features the suport of LG modes generation and reflected field analysis.\n",
    "        After fitting, the following results are stored in corresponding member variables:\n",
    "            self.zmirror - describes the motion of target\n",
    "            self.refl_field - interpolated field generated after LG_mode interaction with target\n",
    "            self.fft_result - FFT transform of the reflected field\n",
    "            self.fft_freq - set of corresponding frequencies in FFT\n",
    "    \"\"\"\n",
    "    \n",
    "    def __init__(self, params_dict):\n",
    "        \n",
    "        self.fitted = False\n",
    "        self.mode_params = []\n",
    "        self.mode_params.append(mode_params(*params_dict[\"mode_0\"])) ###mode_params\n",
    "        self.mode_params.append(mode_params(*params_dict[\"mode_1\"])) ###mode_params\n",
    "        self.coord_type = params_dict[\"coords\"][\"type\"]\n",
    "        \n",
    "        self.tau = params_dict[\"tau\"]\n",
    "        self.delay = params_dict[\"delay\"]\n",
    "        \n",
    "        if self.coord_type == \"cartesian\":\n",
    "            xmin = params_dict[\"coords\"][\"xmin\"]#-10\n",
    "            xmax = params_dict[\"coords\"][\"xmax\"]#10\n",
    "            ymin = params_dict[\"coords\"][\"ymin\"]#-10\n",
    "            ymax = params_dict[\"coords\"][\"ymax\"]#10\n",
    "            zmin = params_dict[\"coords\"][\"zmin\"]#-15\n",
    "            zmax = params_dict[\"coords\"][\"zmax\"]#15\n",
    "            \n",
    "            nofxs = params_dict[\"discretization\"][\"x\"]#60\n",
    "            nofys = params_dict[\"discretization\"][\"y\"]#60\n",
    "            nofzs = params_dict[\"discretization\"][\"z\"]#2400\n",
    "            \n",
    "            self.zmin, self.zmax = zmin, zmax\n",
    "            \n",
    "            xx = np.linspace(xmin*2*np.pi, xmax*2*np.pi, nofxs)\n",
    "            yy = np.linspace(ymin*2*np.pi, ymax*2*np.pi, nofys)\n",
    "            zz = np.linspace(zmin*2*np.pi, zmax*2*np.pi, nofzs)\n",
    "            self.d_sampling_rate = zz[1] - zz[0]\n",
    "            self.nofzs = nofzs\n",
    "            self.x,self.y,self.z = np.meshgrid(xx,yy,zz, indexing='xy')\n",
    "        elif (self.coord_type == \"polar\"):\n",
    "            zmin = params_dict[\"coords\"][\"zmin\"]#-15\n",
    "            zmax = params_dict[\"coords\"][\"zmax\"]#15\n",
    "            nofzs = params_dict[\"discretization\"][\"z\"]#2400\n",
    "            zz = np.linspace(zmin*2*np.pi, zmax*2*np.pi, nofzs)\n",
    "            self.d_sampling_rate = zz[1] - zz[0]\n",
    "            rhos = np.linspace(0, 7*2*np.pi, 20)\n",
    "            phis = np.linspace(0, 2*np.pi, 150)\n",
    "            \n",
    "            self.zmin, self.zmax = zmin, zmax\n",
    "            \n",
    "            self.r,self.phi,self.z = np.meshgrid(rhos,phis,zz, indexing='xy')\n",
    "        else:\n",
    "            raise ValueError(\"Unsupported coordinate type!\\\n",
    "            Supported values are [\\'cartesian\\', \\'polar\\']\")\n",
    "    @staticmethod\n",
    "    def calculate_spectrum(field, d_rate):\n",
    "        fft_res = np.fft.fft(field, axis=2)\n",
    "        fft_freq = np.fft.fftfreq(len(field[1,1,:]), d=d_rate)\n",
    "        return fft_res, fft_freq\n",
    "        \n",
    "    @staticmethod\n",
    "    def LG_mode(mode_params, tau, r, phi, z):\n",
    "        mode, arg, p,m = LG_mode_accelerated(mode_params.m, \n",
    "                                         mode_params.p, \n",
    "                                         mode_params.Mp, \n",
    "                                         mode_params.w0, \n",
    "                                         mode_params.a0, tau, r, phi, z)\n",
    "        Lpm = genlaguerre(p, np.abs(m))\n",
    "        mode = mode * Lpm(arg)\n",
    "        return mode\n",
    "    \n",
    "    @staticmethod\n",
    "    def get_interp_field(z, zd, refl_field):\n",
    "        refl_field_interp = np.zeros_like(refl_field)\n",
    "        for i in range(z.shape[0]):\n",
    "            for j in range(z.shape[1]):\n",
    "                refl_field_interp[i,j,:] = np.interp(z[i,j,:], zd[i,j,:], refl_field[i,j,:])\n",
    "        return refl_field_interp\n",
    "    \n",
    "    def coords_polar(self):\n",
    "        if self.coord_type ==\"polar\":\n",
    "            return self.r, self.phi\n",
    "        else:\n",
    "            r = np.sqrt(self.x**2+self.y**2)\n",
    "\n",
    "            xiy = self.x + 1j*self.y\n",
    "            phi = np.angle(xiy)\n",
    "            return r, phi\n",
    "        \n",
    "    def calculate_field(self):\n",
    "        r, phi = self.coords_polar()\n",
    "        start = datetime.now()\n",
    "        print(\"Calculating LG modes...\", end=\"\")\n",
    "        LG_mode_1 = self.LG_mode(self.mode_params[0], self.tau, r, phi, self.z-self.delay/2)\n",
    "        field_x = np.abs(LG_mode_1) * np.cos(np.angle(LG_mode_1))\n",
    "\n",
    "        LG_mode_2 = self.LG_mode(self.mode_params[1], self.tau, r, phi, self.z+self.delay/2)\n",
    "        field_x = field_x + np.abs(LG_mode_2) * np.cos(np.angle(LG_mode_2))\n",
    "        \n",
    "        print(\"OK!\")\n",
    "        \n",
    "        envelope1 = np.abs(LG_mode_1)\n",
    "        envelope2 = np.abs(LG_mode_2)\n",
    "        \n",
    "        print(\"Calculating reflected fields...\", end=\"\")\n",
    "        full_envelope = np.sqrt(envelope1**2 + \\\n",
    "                            envelope2**2 + 2*envelope1*envelope2*\\\n",
    "                            np.cos(np.angle(LG_mode_2)-np.angle(LG_mode_1)))\n",
    "\n",
    "        zmirror = 1./(1+full_envelope ** 2)*(envelope1*np.cos(np.angle(LG_mode_1))+\\\n",
    "                                                 envelope2*np.cos(np.angle(LG_mode_2)))**2\n",
    "\n",
    "        refl_field = envelope1 * np.cos(np.angle(self.LG_mode(self.mode_params[0], \n",
    "                                                              self.tau, r, phi, self.z-self.delay/2+zmirror)))\n",
    "        refl_field = refl_field + envelope2 * np.cos(np.angle(self.LG_mode(self.mode_params[1],\n",
    "                                                              self.tau, r, phi, self.z+self.delay/2+zmirror)))\n",
    "\n",
    "        zd = self.z-zmirror\n",
    "        \n",
    "        self.incident_field = field_x\n",
    "        self.zmirror = zmirror\n",
    "        self.full_envelope = full_envelope\n",
    "        self.refl_field = self.get_interp_field(self.z, zd, refl_field)\n",
    "        print(\"OK!\")\n",
    "        print(\"Calculating field spectrum...\", end=\"\")\n",
    "        self.fft_result, self.fft_freq = self.calculate_spectrum(self.refl_field, \n",
    "                                                                 self.d_sampling_rate)\n",
    "        self.fitted = True\n",
    "        print(f\"OK!\\nFinished training in {(datetime.now()-start).total_seconds()} seconds.\")\n",
    "        return True\n",
    "    def count_spectrogram(self, n_harmonics=3):\n",
    "        dz = self.d_sampling_rate/(2*np.pi)      # in wavelength\n",
    "\n",
    "        window_width = 2.0   # in wavelengths\n",
    "        dtau_window = 0.1    # in wavelengths\n",
    "        nofzs_window = (self.zmax - self.zmin)/dtau_window\n",
    "\n",
    "        omegas = np.fft.fftfreq(self.refl_field.shape[2], d = dz)\n",
    "\n",
    "        idx = np.argwhere(np.abs(np.abs(omegas)-3)<1e-2)[0][0] #3rd harmonics idx\n",
    "\n",
    "        for r in range(self.refl_field.shape[0]):\n",
    "            print(r)\n",
    "            for phi in range(self.refl_field.shape[1]):\n",
    "                field = self.refl_field[r,phi,:]\n",
    "                sp=np.fft.fft(field)\n",
    "                specgram_global = np.zeros((self.refl_field.shape[0],\n",
    "                                            self.refl_field.shape[0] , 300,1), dtype=np.complex128)\n",
    "                flag = False\n",
    "                for n in np.arange(nofzs_window):\n",
    "                    window_pos = zmin+n * dtau_window\n",
    "                    window_func = np.exp(-(z/2/np.pi - window_pos)**100/window_width**100)\n",
    "                    y = field * window_func\n",
    "                    sp = np.fft.fft(y)\n",
    "                    if flag == False:\n",
    "                        specgram = sp[idx]\n",
    "                        flag = True\n",
    "                    else:\n",
    "                        specgram = np.vstack([specgram, sp[idx]])\n",
    "                specgram_global[r, phi] = specgram \n",
    "        self.specgram = specgram_global\n",
    "    def plot_incident_field(self, ):\n",
    "        pass\n",
    "    def calculate_radial_spectrum(self, rho):\n",
    "        r, phi = self.coords_polar()\n",
    "        try:\n",
    "            field_slice = self.incident_field[:,rho, :]\n",
    "        except:\n",
    "            print(f\"Invalid rho value ({rho})!\")\n",
    "            return\n",
    "        radial_spectrum = np.fft.fft(field_slice, axis=1)\n",
    "        frequencies = np.fft.fftfreq(self.nofzs, self.d_sampling_rate)\n",
    "        return radial_spectrum, frequencies"
   ]
  },
  {
   "cell_type": "code",
   "execution_count": 83,
   "metadata": {},
   "outputs": [],
   "source": [
    "params_dict = {\n",
    "    \"mode_0\" : [3., 1, 0, 1., 3.**2*np.pi],\n",
    "    \"mode_1\" : [3., 2, 0, 1., 3.**2*np.pi],\n",
    "    \"coords\" :\n",
    "        {\n",
    "            \"type\": \"cartesian\",\n",
    "            \"xmin\": -10,\n",
    "            \"xmax\": 10,\n",
    "            \"ymin\": -10,\n",
    "            \"ymax\": 10,\n",
    "            \"zmin\": -15,\n",
    "            \"zmax\": 15\n",
    "        },\n",
    "    \"tau\": 4*2*np.pi,\n",
    "    \"delay\": -2*4*2*np.pi,\n",
    "    \"discretization\": {\n",
    "                        \"x\": 60,\n",
    "                        \"y\": 60,\n",
    "                        \"z\": 2400\n",
    "    }\n",
    "               }"
   ]
  },
  {
   "cell_type": "code",
   "execution_count": 84,
   "metadata": {},
   "outputs": [],
   "source": [
    "params_dict = {\n",
    "    \"mode_0\" : [3., 1, 0, 1., 3.**2*np.pi],\n",
    "    \"mode_1\" : [3., 2, 0, 1., 3.**2*np.pi],\n",
    "    \"coords\" :\n",
    "        {\n",
    "            \"type\": \"polar\",\n",
    "            \"zmin\": -15,\n",
    "            \"zmax\": 15\n",
    "        },\n",
    "    \"tau\": 4*2*np.pi,\n",
    "    \"delay\": -2*4*2*np.pi,\n",
    "    \"discretization\": {\n",
    "            \n",
    "                        \"z\": 2400\n",
    "    }\n",
    "               }"
   ]
  },
  {
   "cell_type": "code",
   "execution_count": 85,
   "metadata": {},
   "outputs": [],
   "source": [
    "lg_mode = LG_mode_generation(params_dict)"
   ]
  },
  {
   "cell_type": "code",
   "execution_count": 86,
   "metadata": {},
   "outputs": [
    {
     "name": "stdout",
     "output_type": "stream",
     "text": [
      "Calculating LG modes...OK!\n",
      "Calculating reflected fields...OK!\n",
      "Calculating field spectrum...OK!\n",
      "Finished training in 4.626169 seconds.\n"
     ]
    },
    {
     "data": {
      "text/plain": [
       "True"
      ]
     },
     "execution_count": 86,
     "metadata": {},
     "output_type": "execute_result"
    }
   ],
   "source": [
    "lg_mode.calculate_field()"
   ]
  },
  {
   "cell_type": "code",
   "execution_count": null,
   "metadata": {},
   "outputs": [
    {
     "name": "stdout",
     "output_type": "stream",
     "text": [
      "0\n",
      "1\n",
      "2\n",
      "3\n",
      "4\n",
      "5\n",
      "6\n",
      "7\n",
      "8\n",
      "9\n",
      "10\n",
      "11\n",
      "12\n",
      "13\n",
      "14\n",
      "15\n",
      "16\n",
      "17\n",
      "18\n",
      "19\n",
      "20\n",
      "21\n",
      "22\n",
      "23\n",
      "24\n",
      "25\n",
      "26\n",
      "27\n",
      "28\n",
      "29\n",
      "30\n",
      "31\n",
      "32\n",
      "33\n",
      "34\n",
      "35\n",
      "36\n",
      "37\n",
      "38\n",
      "39\n",
      "40\n",
      "41\n"
     ]
    }
   ],
   "source": [
    "lg_mode.count_spectrogram()"
   ]
  },
  {
   "cell_type": "code",
   "execution_count": 72,
   "metadata": {},
   "outputs": [
    {
     "data": {
      "text/plain": [
       "[<matplotlib.lines.Line2D at 0x82545f748>]"
      ]
     },
     "execution_count": 72,
     "metadata": {},
     "output_type": "execute_result"
    },
    {
     "data": {
      "image/png": "[encoded data removed]",
      "text/plain": [
       "<Figure size 432x288 with 1 Axes>"
      ]
     },
     "metadata": {
      "needs_background": "light"
     },
     "output_type": "display_data"
    }
   ],
   "source": [
    "zmin = params_dict[\"coords\"][\"zmin\"]\n",
    "zmax = params_dict[\"coords\"][\"zmax\"]\n",
    "nofzs = params_dict[\"discretization\"][\"z\"]\n",
    "z = np.linspace(zmin*2*np.pi, zmax*2*np.pi, nofzs)\n",
    "\n",
    "plt.plot(z/2/np.pi, field)"
   ]
  },
  {
   "cell_type": "code",
   "execution_count": 81,
   "metadata": {},
   "outputs": [
    {
     "name": "stdout",
     "output_type": "stream",
     "text": [
      "0\n",
      "1\n",
      "2\n",
      "3\n",
      "4\n",
      "5\n",
      "6\n",
      "7\n",
      "8\n",
      "9\n",
      "10\n",
      "11\n",
      "12\n",
      "13\n",
      "14\n",
      "15\n",
      "16\n",
      "17\n",
      "18\n",
      "19\n",
      "20\n",
      "21\n",
      "22\n",
      "23\n"
     ]
    },
    {
     "ename": "KeyboardInterrupt",
     "evalue": "",
     "output_type": "error",
     "traceback": [
      "\u001b[0;31m---------------------------------------------------------------------------\u001b[0m",
      "\u001b[0;31mKeyboardInterrupt\u001b[0m                         Traceback (most recent call last)",
      "\u001b[0;32m<ipython-input-81-42a188d03103>\u001b[0m in \u001b[0;36m<module>\u001b[0;34m\u001b[0m\n\u001b[1;32m     22\u001b[0m             \u001b[0mwindow_func\u001b[0m \u001b[0;34m=\u001b[0m \u001b[0mnp\u001b[0m\u001b[0;34m.\u001b[0m\u001b[0mexp\u001b[0m\u001b[0;34m(\u001b[0m\u001b[0;34m-\u001b[0m\u001b[0;34m(\u001b[0m\u001b[0mz\u001b[0m\u001b[0;34m/\u001b[0m\u001b[0;36m2\u001b[0m\u001b[0;34m/\u001b[0m\u001b[0mnp\u001b[0m\u001b[0;34m.\u001b[0m\u001b[0mpi\u001b[0m \u001b[0;34m-\u001b[0m \u001b[0mwindow_pos\u001b[0m\u001b[0;34m)\u001b[0m\u001b[0;34m**\u001b[0m\u001b[0;36m100\u001b[0m\u001b[0;34m/\u001b[0m\u001b[0mwindow_width\u001b[0m\u001b[0;34m**\u001b[0m\u001b[0;36m100\u001b[0m\u001b[0;34m)\u001b[0m\u001b[0;34m\u001b[0m\u001b[0;34m\u001b[0m\u001b[0m\n\u001b[1;32m     23\u001b[0m             \u001b[0my\u001b[0m \u001b[0;34m=\u001b[0m \u001b[0mfield\u001b[0m \u001b[0;34m*\u001b[0m \u001b[0mwindow_func\u001b[0m\u001b[0;34m\u001b[0m\u001b[0;34m\u001b[0m\u001b[0m\n\u001b[0;32m---> 24\u001b[0;31m             \u001b[0msp\u001b[0m \u001b[0;34m=\u001b[0m \u001b[0mnp\u001b[0m\u001b[0;34m.\u001b[0m\u001b[0mfft\u001b[0m\u001b[0;34m.\u001b[0m\u001b[0mfft\u001b[0m\u001b[0;34m(\u001b[0m\u001b[0my\u001b[0m\u001b[0;34m)\u001b[0m\u001b[0;34m\u001b[0m\u001b[0;34m\u001b[0m\u001b[0m\n\u001b[0m\u001b[1;32m     25\u001b[0m \u001b[0;34m\u001b[0m\u001b[0m\n\u001b[1;32m     26\u001b[0m             \u001b[0;31m# index 3rd harmonic\u001b[0m\u001b[0;34m\u001b[0m\u001b[0;34m\u001b[0m\u001b[0;34m\u001b[0m\u001b[0m\n",
      "\u001b[0;32m~/anaconda3/lib/python3.7/site-packages/mkl_fft/_numpy_fft.py\u001b[0m in \u001b[0;36mfft\u001b[0;34m(a, n, axis, norm)\u001b[0m\n\u001b[1;32m    156\u001b[0m \u001b[0;34m\u001b[0m\u001b[0m\n\u001b[1;32m    157\u001b[0m     \"\"\"\n\u001b[0;32m--> 158\u001b[0;31m     \u001b[0moutput\u001b[0m \u001b[0;34m=\u001b[0m \u001b[0mmkl_fft\u001b[0m\u001b[0;34m.\u001b[0m\u001b[0mfft\u001b[0m\u001b[0;34m(\u001b[0m\u001b[0ma\u001b[0m\u001b[0;34m,\u001b[0m \u001b[0mn\u001b[0m\u001b[0;34m,\u001b[0m \u001b[0maxis\u001b[0m\u001b[0;34m)\u001b[0m\u001b[0;34m\u001b[0m\u001b[0;34m\u001b[0m\u001b[0m\n\u001b[0m\u001b[1;32m    159\u001b[0m     \u001b[0;32mif\u001b[0m \u001b[0m_unitary\u001b[0m\u001b[0;34m(\u001b[0m\u001b[0mnorm\u001b[0m\u001b[0;34m)\u001b[0m\u001b[0;34m:\u001b[0m\u001b[0;34m\u001b[0m\u001b[0;34m\u001b[0m\u001b[0m\n\u001b[1;32m    160\u001b[0m         \u001b[0moutput\u001b[0m \u001b[0;34m*=\u001b[0m \u001b[0;36m1\u001b[0m \u001b[0;34m/\u001b[0m \u001b[0msqrt\u001b[0m\u001b[0;34m(\u001b[0m\u001b[0moutput\u001b[0m\u001b[0;34m.\u001b[0m\u001b[0mshape\u001b[0m\u001b[0;34m[\u001b[0m\u001b[0maxis\u001b[0m\u001b[0;34m]\u001b[0m\u001b[0;34m)\u001b[0m\u001b[0;34m\u001b[0m\u001b[0;34m\u001b[0m\u001b[0m\n",
      "\u001b[0;31mKeyboardInterrupt\u001b[0m: "
     ]
    }
   ],
   "source": [
    "dz = lg_mode.d_sampling_rate/(2*np.pi)      # in wavelength\n",
    "\n",
    "window_width = 2.0   # in wavelengths\n",
    "dtau_window = 0.1    # in wavelengths\n",
    "nofzs_window = (zmax - zmin)/dtau_window\n",
    "\n",
    "\n",
    "omegas = np.fft.fftfreq(lg_mode.refl_field.shape[2], d = dz)\n",
    "\n",
    "idx = np.argwhere(np.abs(np.abs(omegas)-3)<1e-2)[0][0] #3rd harmonics idx\n",
    "\n",
    "for r in range(lg_mode.refl_field.shape[0]):\n",
    "    print(r)\n",
    "    for phi in range(lg_mode.refl_field.shape[1]):\n",
    "        field = lg_mode.refl_field[r,phi,:]\n",
    "        sp=np.fft.fft(field)\n",
    "        specgram_global = np.zeros((lg_mode.refl_field.shape[0],\n",
    "                                    lg_mode.refl_field.shape[0] , 300,1), dtype=np.complex128)\n",
    "        flag = False\n",
    "        for n in np.arange(nofzs_window):\n",
    "            window_pos = zmin+n * dtau_window\n",
    "            window_func = np.exp(-(z/2/np.pi - window_pos)**100/window_width**100)\n",
    "            y = field * window_func\n",
    "            sp = np.fft.fft(y)\n",
    "\n",
    "            # index 3rd harmonic\n",
    "            # for example sp[10] corresponds to 3rd harmonic\n",
    "            # r,phi, angle(sp[10])\n",
    "\n",
    "            if flag == False:\n",
    "                specgram = sp[idx]\n",
    "                flag = True\n",
    "            else:\n",
    "                specgram = np.vstack([specgram, sp[idx]])\n",
    "        #print(specgram.shape)\n",
    "        specgram_global[r, phi] = specgram "
   ]
  },
  {
   "cell_type": "code",
   "execution_count": null,
   "metadata": {},
   "outputs": [],
   "source": []
  },
  {
   "cell_type": "code",
   "execution_count": 66,
   "metadata": {},
   "outputs": [
    {
     "data": {
      "text/plain": [
       "<matplotlib.image.AxesImage at 0x825283a58>"
      ]
     },
     "execution_count": 66,
     "metadata": {},
     "output_type": "execute_result"
    },
    {
     "data": {
      "image/png": "[encoded data removed]",
      "text/plain": [
       "<Figure size 432x288 with 1 Axes>"
      ]
     },
     "metadata": {
      "needs_background": "light"
     },
     "output_type": "display_data"
    }
   ],
   "source": [
    "plt.imshow(np.abs(specgram.T), aspect='auto')"
   ]
  },
  {
   "cell_type": "code",
   "execution_count": 51,
   "metadata": {},
   "outputs": [],
   "source": [
    "omegas = np.fft.fftfreq(lg_mode.refl_field.shape[2], d = dz)\n",
    "@jit\n",
    "def calculate_specgram(refl_field, dz, zmin, zmax, omegas):\n",
    "    #dz = lg_mode.d_sampling_rate/(2*np.pi)      # in wavelength\n",
    "\n",
    "    window_width = 2.0   # in wavelengths\n",
    "    dtau_window = 0.1    # in wavelengths\n",
    "    nofzs_window = (zmax - zmin)/dtau_window\n",
    "\n",
    "    flag = False\n",
    "\n",
    "    \n",
    "    idx = np.argwhere(np.abs(np.abs(omegas)-3)<1e-2)[0][0] #3rd harmonics idx\n",
    "    for r in range(refl_field.shape[0]):\n",
    "        print(r)\n",
    "        for phi in range(refl_field.shape[1]):\n",
    "            field = np.array(refl_field[r,phi,:], dtype=np.float64)\n",
    "            sp=np.fft.fft(field)\n",
    "            for n in np.arange(nofzs_window):\n",
    "                window_pos = zmin+n * dtau_window\n",
    "                window_func = np.exp(-(z/2/np.pi - window_pos)**100/window_width**100)\n",
    "                y = field * window_func\n",
    "                sp = np.fft.fft(y)\n",
    "\n",
    "                # index 3rd harmonic\n",
    "                # for example sp[10] corresponds to 3rd harmonic\n",
    "                # r,phi, angle(sp[10])\n",
    "\n",
    "                if flag == False:\n",
    "                    specgram = sp[idx]\n",
    "                    flag = True\n",
    "                else:\n",
    "                    specgram = np.vstack([specgram, sp[idx]])"
   ]
  },
  {
   "cell_type": "code",
   "execution_count": 52,
   "metadata": {},
   "outputs": [
    {
     "name": "stderr",
     "output_type": "stream",
     "text": [
      "<ipython-input-51-1053304313cc>:2: NumbaWarning: \u001b[1m\n",
      "Compilation is falling back to object mode WITH looplifting enabled because Function \"calculate_specgram\" failed type inference due to: \u001b[1m\u001b[1m\u001b[1mNo implementation of function Function(<built-in function array>) found for signature:\n",
      " \n",
      " >>> array(array(float64, 1d, C), dtype=class(float64))\n",
      " \n",
      "There are 2 candidate implementations:\n",
      "\u001b[1m  - Of which 2 did not match due to:\n",
      "  Overload in function 'array': File: numba/core/typing/npydecl.py: Line 482.\n",
      "    With argument(s): '(array(float64, 1d, C), dtype=class(float64))':\u001b[0m\n",
      "\u001b[1m   Rejected as the implementation raised a specific error:\n",
      "     TypingError: \u001b[1marray(float64, 1d, C) not allowed in a homogeneous sequence\u001b[0m\u001b[0m\n",
      "  raised from /Users/egor/anaconda3/lib/python3.7/site-packages/numba/core/typing/npydecl.py:449\n",
      "\u001b[0m\n",
      "\u001b[0m\u001b[1mDuring: resolving callee type: Function(<built-in function array>)\u001b[0m\n",
      "\u001b[0m\u001b[1mDuring: typing of call at <ipython-input-51-1053304313cc> (17)\n",
      "\u001b[0m\n",
      "\u001b[1m\n",
      "File \"<ipython-input-51-1053304313cc>\", line 17:\u001b[0m\n",
      "\u001b[1mdef calculate_specgram(refl_field, dz, zmin, zmax, omegas):\n",
      "    <source elided>\n",
      "        for phi in range(refl_field.shape[1]):\n",
      "\u001b[1m            field = np.array(refl_field[r,phi,:], dtype=np.float64)\n",
      "\u001b[0m            \u001b[1m^\u001b[0m\u001b[0m\n",
      "\u001b[0m\n",
      "  @jit\n",
      "<ipython-input-51-1053304313cc>:2: NumbaWarning: \u001b[1m\n",
      "Compilation is falling back to object mode WITHOUT looplifting enabled because Function \"calculate_specgram\" failed type inference due to: \u001b[1m\u001b[1mcannot determine Numba type of <class 'numba.core.dispatcher.LiftedLoop'>\u001b[0m\n",
      "\u001b[1m\n",
      "File \"<ipython-input-51-1053304313cc>\", line 14:\u001b[0m\n",
      "\u001b[1mdef calculate_specgram(refl_field, dz, zmin, zmax, omegas):\n",
      "    <source elided>\n",
      "    idx = np.argwhere(np.abs(np.abs(omegas)-3)<1e-2)[0][0] #3rd harmonics idx\n",
      "\u001b[1m    for r in range(refl_field.shape[0]):\n",
      "\u001b[0m    \u001b[1m^\u001b[0m\u001b[0m\n",
      "\u001b[0m\u001b[0m\n",
      "  @jit\n",
      "/Users/egor/anaconda3/lib/python3.7/site-packages/numba/core/object_mode_passes.py:178: NumbaWarning: \u001b[1mFunction \"calculate_specgram\" was compiled in object mode without forceobj=True, but has lifted loops.\n",
      "\u001b[1m\n",
      "File \"<ipython-input-51-1053304313cc>\", line 6:\u001b[0m\n",
      "\u001b[1mdef calculate_specgram(refl_field, dz, zmin, zmax, omegas):\n",
      "    <source elided>\n",
      "\n",
      "\u001b[1m    window_width = 2.0   # in wavelengths\n",
      "\u001b[0m    \u001b[1m^\u001b[0m\u001b[0m\n",
      "\u001b[0m\n",
      "  state.func_ir.loc))\n",
      "/Users/egor/anaconda3/lib/python3.7/site-packages/numba/core/object_mode_passes.py:188: NumbaDeprecationWarning: \u001b[1m\n",
      "Fall-back from the nopython compilation path to the object mode compilation path has been detected, this is deprecated behaviour.\n",
      "\n",
      "For more information visit https://numba.pydata.org/numba-doc/latest/reference/deprecation.html#deprecation-of-object-mode-fall-back-behaviour-when-using-jit\n",
      "\u001b[1m\n",
      "File \"<ipython-input-51-1053304313cc>\", line 6:\u001b[0m\n",
      "\u001b[1mdef calculate_specgram(refl_field, dz, zmin, zmax, omegas):\n",
      "    <source elided>\n",
      "\n",
      "\u001b[1m    window_width = 2.0   # in wavelengths\n",
      "\u001b[0m    \u001b[1m^\u001b[0m\u001b[0m\n",
      "\u001b[0m\n",
      "  state.func_ir.loc))\n",
      "<ipython-input-51-1053304313cc>:2: NumbaWarning: \u001b[1m\n",
      "Compilation is falling back to object mode WITHOUT looplifting enabled because Function \"calculate_specgram\" failed type inference due to: \u001b[1m\u001b[1m\u001b[1mNo implementation of function Function(<built-in function array>) found for signature:\n",
      " \n",
      " >>> array(array(float64, 1d, C), dtype=class(float64))\n",
      " \n",
      "There are 2 candidate implementations:\n",
      "\u001b[1m    - Of which 2 did not match due to:\n",
      "    Overload in function 'array': File: numba/core/typing/npydecl.py: Line 482.\n",
      "      With argument(s): '(array(float64, 1d, C), dtype=class(float64))':\u001b[0m\n",
      "\u001b[1m     Rejected as the implementation raised a specific error:\n",
      "       TypingError: \u001b[1marray(float64, 1d, C) not allowed in a homogeneous sequence\u001b[0m\u001b[0m\n",
      "  raised from /Users/egor/anaconda3/lib/python3.7/site-packages/numba/core/typing/npydecl.py:449\n",
      "\u001b[0m\n",
      "\u001b[0m\u001b[1mDuring: resolving callee type: Function(<built-in function array>)\u001b[0m\n",
      "\u001b[0m\u001b[1mDuring: typing of call at <ipython-input-51-1053304313cc> (17)\n",
      "\u001b[0m\n",
      "\u001b[1m\n",
      "File \"<ipython-input-51-1053304313cc>\", line 17:\u001b[0m\n",
      "\u001b[1mdef calculate_specgram(refl_field, dz, zmin, zmax, omegas):\n",
      "    <source elided>\n",
      "        for phi in range(refl_field.shape[1]):\n",
      "\u001b[1m            field = np.array(refl_field[r,phi,:], dtype=np.float64)\n",
      "\u001b[0m            \u001b[1m^\u001b[0m\u001b[0m\n",
      "\u001b[0m\n",
      "  @jit\n",
      "/Users/egor/anaconda3/lib/python3.7/site-packages/numba/core/object_mode_passes.py:178: NumbaWarning: \u001b[1mFunction \"calculate_specgram\" was compiled in object mode without forceobj=True.\n",
      "\u001b[1m\n",
      "File \"<ipython-input-51-1053304313cc>\", line 14:\u001b[0m\n",
      "\u001b[1mdef calculate_specgram(refl_field, dz, zmin, zmax, omegas):\n",
      "    <source elided>\n",
      "    idx = np.argwhere(np.abs(np.abs(omegas)-3)<1e-2)[0][0] #3rd harmonics idx\n",
      "\u001b[1m    for r in range(refl_field.shape[0]):\n",
      "\u001b[0m    \u001b[1m^\u001b[0m\u001b[0m\n",
      "\u001b[0m\n",
      "  state.func_ir.loc))\n",
      "/Users/egor/anaconda3/lib/python3.7/site-packages/numba/core/object_mode_passes.py:188: NumbaDeprecationWarning: \u001b[1m\n",
      "Fall-back from the nopython compilation path to the object mode compilation path has been detected, this is deprecated behaviour.\n",
      "\n",
      "For more information visit https://numba.pydata.org/numba-doc/latest/reference/deprecation.html#deprecation-of-object-mode-fall-back-behaviour-when-using-jit\n",
      "\u001b[1m\n",
      "File \"<ipython-input-51-1053304313cc>\", line 14:\u001b[0m\n",
      "\u001b[1mdef calculate_specgram(refl_field, dz, zmin, zmax, omegas):\n",
      "    <source elided>\n",
      "    idx = np.argwhere(np.abs(np.abs(omegas)-3)<1e-2)[0][0] #3rd harmonics idx\n",
      "\u001b[1m    for r in range(refl_field.shape[0]):\n",
      "\u001b[0m    \u001b[1m^\u001b[0m\u001b[0m\n",
      "\u001b[0m\n",
      "  state.func_ir.loc))\n"
     ]
    },
    {
     "name": "stdout",
     "output_type": "stream",
     "text": [
      "0\n",
      "1\n",
      "2\n",
      "3\n",
      "4\n",
      "5\n",
      "6\n",
      "7\n",
      "8\n",
      "9\n",
      "10\n"
     ]
    },
    {
     "ename": "KeyboardInterrupt",
     "evalue": "",
     "output_type": "error",
     "traceback": [
      "\u001b[0;31m---------------------------------------------------------------------------\u001b[0m",
      "\u001b[0;31mKeyboardInterrupt\u001b[0m                         Traceback (most recent call last)",
      "\u001b[0;32m<ipython-input-52-491414f677aa>\u001b[0m in \u001b[0;36m<module>\u001b[0;34m\u001b[0m\n\u001b[0;32m----> 1\u001b[0;31m \u001b[0mcalculate_specgram\u001b[0m\u001b[0;34m(\u001b[0m\u001b[0mlg_mode\u001b[0m\u001b[0;34m.\u001b[0m\u001b[0mrefl_field\u001b[0m\u001b[0;34m,\u001b[0m\u001b[0mdz\u001b[0m\u001b[0;34m,\u001b[0m\u001b[0mzmin\u001b[0m\u001b[0;34m,\u001b[0m \u001b[0mzmax\u001b[0m\u001b[0;34m,\u001b[0m \u001b[0momegas\u001b[0m\u001b[0;34m)\u001b[0m\u001b[0;34m\u001b[0m\u001b[0;34m\u001b[0m\u001b[0m\n\u001b[0m",
      "\u001b[0;32m<__array_function__ internals>\u001b[0m in \u001b[0;36mvstack\u001b[0;34m(*args, **kwargs)\u001b[0m\n",
      "\u001b[0;32m~/anaconda3/lib/python3.7/site-packages/numpy/core/shape_base.py\u001b[0m in \u001b[0;36mvstack\u001b[0;34m(tup)\u001b[0m\n\u001b[1;32m    280\u001b[0m     \u001b[0;32mif\u001b[0m \u001b[0;32mnot\u001b[0m \u001b[0misinstance\u001b[0m\u001b[0;34m(\u001b[0m\u001b[0marrs\u001b[0m\u001b[0;34m,\u001b[0m \u001b[0mlist\u001b[0m\u001b[0;34m)\u001b[0m\u001b[0;34m:\u001b[0m\u001b[0;34m\u001b[0m\u001b[0;34m\u001b[0m\u001b[0m\n\u001b[1;32m    281\u001b[0m         \u001b[0marrs\u001b[0m \u001b[0;34m=\u001b[0m \u001b[0;34m[\u001b[0m\u001b[0marrs\u001b[0m\u001b[0;34m]\u001b[0m\u001b[0;34m\u001b[0m\u001b[0;34m\u001b[0m\u001b[0m\n\u001b[0;32m--> 282\u001b[0;31m     \u001b[0;32mreturn\u001b[0m \u001b[0m_nx\u001b[0m\u001b[0;34m.\u001b[0m\u001b[0mconcatenate\u001b[0m\u001b[0;34m(\u001b[0m\u001b[0marrs\u001b[0m\u001b[0;34m,\u001b[0m \u001b[0;36m0\u001b[0m\u001b[0;34m)\u001b[0m\u001b[0;34m\u001b[0m\u001b[0;34m\u001b[0m\u001b[0m\n\u001b[0m\u001b[1;32m    283\u001b[0m \u001b[0;34m\u001b[0m\u001b[0m\n\u001b[1;32m    284\u001b[0m \u001b[0;34m\u001b[0m\u001b[0m\n",
      "\u001b[0;32m<__array_function__ internals>\u001b[0m in \u001b[0;36mconcatenate\u001b[0;34m(*args, **kwargs)\u001b[0m\n",
      "\u001b[0;31mKeyboardInterrupt\u001b[0m: "
     ]
    }
   ],
   "source": [
    "calculate_specgram(lg_mode.refl_field,dz,zmin, zmax, omegas)"
   ]
  },
  {
   "cell_type": "code",
   "execution_count": 16,
   "metadata": {},
   "outputs": [
    {
     "name": "stdout",
     "output_type": "stream",
     "text": [
      "(2306, 95)\n"
     ]
    },
    {
     "data": {
      "text/plain": [
       "<matplotlib.collections.QuadMesh at 0x8328057f0>"
      ]
     },
     "execution_count": 16,
     "metadata": {},
     "output_type": "execute_result"
    },
    {
     "data": {
      "image/png": "[encoded data removed]",
      "text/plain": [
       "<Figure size 432x288 with 1 Axes>"
      ]
     },
     "metadata": {
      "needs_background": "light"
     },
     "output_type": "display_data"
    }
   ],
   "source": [
    "nrows = 2306\n",
    "ncols = 95\n",
    "Z = np.abs(spectrogram_result)\n",
    "print(Z.shape)\n",
    "x = np.arange(ncols + 1)\n",
    "y = np.arange(nrows + 1)\n",
    "\n",
    "\n",
    "plt.pcolormesh(x, y, Z,)"
   ]
  },
  {
   "cell_type": "code",
   "execution_count": 17,
   "metadata": {},
   "outputs": [
    {
     "data": {
      "text/plain": [
       "True"
      ]
     },
     "execution_count": 17,
     "metadata": {},
     "output_type": "execute_result"
    }
   ],
   "source": [
    "spectrogram_result.shape == Z.shape"
   ]
  },
  {
   "cell_type": "code",
   "execution_count": 77,
   "metadata": {},
   "outputs": [
    {
     "data": {
      "text/plain": [
       "(4,)"
      ]
     },
     "execution_count": 77,
     "metadata": {},
     "output_type": "execute_result"
    }
   ],
   "source": [
    "y.shape"
   ]
  },
  {
   "cell_type": "code",
   "execution_count": 76,
   "metadata": {},
   "outputs": [
    {
     "data": {
      "text/plain": [
       "(3, 5)"
      ]
     },
     "execution_count": 76,
     "metadata": {},
     "output_type": "execute_result"
    }
   ],
   "source": [
    "Z.shape"
   ]
  },
  {
   "cell_type": "code",
   "execution_count": null,
   "metadata": {},
   "outputs": [],
   "source": []
  }
 ],
 "metadata": {
  "kernelspec": {
   "display_name": "Python 3",
   "language": "python",
   "name": "python3"
  },
  "language_info": {
   "codemirror_mode": {
    "name": "ipython",
    "version": 3
   },
   "file_extension": ".py",
   "mimetype": "text/x-python",
   "name": "python",
   "nbconvert_exporter": "python",
   "pygments_lexer": "ipython3",
   "version": "3.7.3"
  }
 },
 "nbformat": 4,
 "nbformat_minor": 2
}
